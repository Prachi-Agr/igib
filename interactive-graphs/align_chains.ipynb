{
 "cells": [
  {
   "cell_type": "code",
   "execution_count": 1,
   "metadata": {},
   "outputs": [],
   "source": [
    "from prody import *\n",
    "from pylab import *\n",
    "import json"
   ]
  },
  {
   "cell_type": "code",
   "execution_count": 2,
   "metadata": {
    "tags": []
   },
   "outputs": [
    {
     "output_type": "stream",
     "name": "stderr",
     "text": "@> PDB file is found in working directory (6m0j.pdb).\n@> 6558 atoms and 1 coordinate set(s) were parsed in 0.11s.\n@> PDB file is found in working directory (2ajf.pdb).\n@> 12777 atoms and 1 coordinate set(s) were parsed in 0.15s.\n"
    }
   ],
   "source": [
    "pdb = {\n",
    "    'cov2': parsePDB('6M0J').getHierView(),\n",
    "    'cov' : parsePDB('2AJF').getHierView()\n",
    "}"
   ]
  },
  {
   "cell_type": "code",
   "execution_count": 3,
   "metadata": {},
   "outputs": [],
   "source": [
    "chains = {\n",
    "    'cov' : {\n",
    "        'spike': pdb['cov']['E'],\n",
    "        'recep': pdb['cov']['A']\n",
    "    },\n",
    "    'cov2': {\n",
    "        'spike': pdb['cov2']['E'],\n",
    "        'recep': pdb['cov2']['A']\n",
    "    }\n",
    "}\n",
    "\n",
    "# for finding interactions\n",
    "threshold = 5"
   ]
  },
  {
   "cell_type": "code",
   "execution_count": 4,
   "metadata": {},
   "outputs": [],
   "source": [
    "sequences = {\n",
    "    'spikes' : [chains['cov']['spike'].getSequence(), chains['cov2']['spike'].getSequence()],\n",
    "    'receps' : [chains['cov']['recep'].getSequence(), chains['cov2']['recep'].getSequence()]\n",
    "}"
   ]
  },
  {
   "cell_type": "code",
   "execution_count": 5,
   "metadata": {
    "tags": []
   },
   "outputs": [
    {
     "output_type": "stream",
     "name": "stderr",
     "text": "@> 2 sequence(s) with 204 residues were parsed in 0.00s.\n@> 2 sequence(s) with 597 residues were parsed in 0.00s.\n"
    }
   ],
   "source": [
    "alignments = {\n",
    "    'spikes': buildMSA(sequences['spikes'], title='spike'),\n",
    "    'receps': buildMSA(sequences['receps'], title='recep')\n",
    "}"
   ]
  },
  {
   "cell_type": "code",
   "execution_count": 6,
   "metadata": {
    "tags": []
   },
   "outputs": [
    {
     "output_type": "stream",
     "name": "stdout",
     "text": "1              \t---CPFGEVFNATKFPSVYAWERKKISNCVADYSVLYNSTFFSTFKCYGVSATKLN----\n2              \tTNLCPFGEVFNATRFASVYAWNRKRISNCVADYSVLYNSASFSTFKCYGVSPTKLNDLCF\n\n1              \t--VYADSFVVKGDDVRQIAPGQTGVIADYNYKLPDDFMGCVLAWNTRNIDATSTGNYNYK\n2              \tTNVYADSFVIRGDEVRQIAPGQTGKIADYNYKLPDDFTGCVIAWNSNNLDSKVGGNYNYL\n\n1              \tYRYLRHGKLRPFERDISNVPFSPDGKPCT-PPALNCYWPLNDYGFYTTTGIGYQPYRVVV\n2              \tYRLFRKSNLKPFERDISTEIYQAGSTPCNGVEGFNCYFPLQSYGFQPTNGVGYQPYRVVV\n\n1              \tLSFE--------------------\n2              \tLSFELLHAPATVCG----------\n\n"
    }
   ],
   "source": [
    "showAlignment(alignments['spikes'])"
   ]
  },
  {
   "cell_type": "code",
   "execution_count": 7,
   "metadata": {
    "tags": []
   },
   "outputs": [],
   "source": [
    "residues = {\n",
    "    'cov': {\n",
    "        'spike': [],\n",
    "        'recep': []\n",
    "    },\n",
    "    'cov2': {\n",
    "        'spike': [],\n",
    "        'recep': []\n",
    "    }\n",
    "}\n",
    "\n",
    "for complex in ['cov', 'cov2']:\n",
    "    for chain in ['spike', 'recep']:\n",
    "        for resnum in sorted([int(res) for res in set(chains[complex][chain].getResnums())]):\n",
    "            residue = chains[complex][chain].getResidue(int(resnum))\n",
    "            if residue.getResname() not in ['HOH', 'NAG']:\n",
    "                residues[complex][chain].append(residue)\n"
   ]
  },
  {
   "cell_type": "code",
   "execution_count": 8,
   "metadata": {},
   "outputs": [],
   "source": [
    "aligned_sequences = {\n",
    "    'cov': {\n",
    "        'spike': str(alignments['spikes'][0]),\n",
    "        'recep': str(alignments['receps'][0])\n",
    "     },\n",
    "     'cov2': {\n",
    "         'spike': str(alignments['spikes'][1]),\n",
    "         'recep': str(alignments['receps'][1])\n",
    "     }\n",
    "}"
   ]
  },
  {
   "cell_type": "code",
   "execution_count": 9,
   "metadata": {},
   "outputs": [],
   "source": [
    "# alignment map of all residues\n",
    "maps = {\n",
    "    'spike': [],\n",
    "    'recep': []\n",
    "}\n",
    "\n",
    "complex1 = 'cov'\n",
    "complex2 = 'cov2'\n",
    "for chain in ['spike', 'recep']:\n",
    "        \n",
    "    s1 = 0 # residue index for cov  spike residues\n",
    "    s2 = 0 # residue index for cov2 spike residues\n",
    "\n",
    "    for i in range(len(aligned_sequences[complex1][chain])):\n",
    "        # get character from aligned sequences\n",
    "        char1 = aligned_sequences[complex1][chain][i]\n",
    "        char2 = aligned_sequences[complex2][chain][i]\n",
    "\n",
    "        if char1 != '-' and char2 != ' ':\n",
    "            resnum1 = residues[complex1][chain][s1].getResnum()\n",
    "            resnum2 = residues[complex2][chain][s2].getResnum() \n",
    "            maps[chain].append((resnum1, resnum2))\n",
    "\n",
    "        if char1 != '-':\n",
    "            s1 += 1\n",
    "        if char2 != '-':\n",
    "            s2 += 1\n",
    "\n",
    "        if s1 == len(residues[complex1][chain]) or s2 == len(residues[complex2][chain]):\n",
    "           break    \n",
    "\n",
    "\n"
   ]
  },
  {
   "cell_type": "code",
   "execution_count": 10,
   "metadata": {
    "tags": []
   },
   "outputs": [
    {
     "output_type": "stream",
     "name": "stdout",
     "text": "194\n204\n"
    }
   ],
   "source": [
    "print(len(residues['cov2']['spike']))\n",
    "print(len(aligned_sequences['cov']['spike']))\n"
   ]
  },
  {
   "cell_type": "code",
   "execution_count": 11,
   "metadata": {
    "tags": []
   },
   "outputs": [
    {
     "output_type": "stream",
     "name": "stdout",
     "text": "1              \t---CPFGEVFNATKFPSVYAWERKKISNCVADYSVLYNSTFFSTFKCYGVSATKLN----\n2              \tTNLCPFGEVFNATRFASVYAWNRKRISNCVADYSVLYNSASFSTFKCYGVSPTKLNDLCF\n\n1              \t--VYADSFVVKGDDVRQIAPGQTGVIADYNYKLPDDFMGCVLAWNTRNIDATSTGNYNYK\n2              \tTNVYADSFVIRGDEVRQIAPGQTGKIADYNYKLPDDFTGCVIAWNSNNLDSKVGGNYNYL\n\n1              \tYRYLRHGKLRPFERDISNVPFSPDGKPCT-PPALNCYWPLNDYGFYTTTGIGYQPYRVVV\n2              \tYRLFRKSNLKPFERDISTEIYQAGSTPCNGVEGFNCYFPLQSYGFQPTNGVGYQPYRVVV\n\n1              \tLSFE--------------------\n2              \tLSFELLHAPATVCG----------\n\n"
    }
   ],
   "source": [
    "showAlignment(alignments['spikes'])"
   ]
  },
  {
   "cell_type": "code",
   "execution_count": 12,
   "metadata": {},
   "outputs": [],
   "source": [
    "interactions = {\n",
    "    'cov' : findNeighbors(atoms=chains['cov' ]['spike'], radius=threshold, atoms2=chains['cov' ]['recep']),\n",
    "    'cov2': findNeighbors(atoms=chains['cov2']['spike'], radius=threshold, atoms2=chains['cov2']['recep'])\n",
    "}"
   ]
  },
  {
   "cell_type": "code",
   "execution_count": 13,
   "metadata": {},
   "outputs": [],
   "source": [
    "spike_residues = {}\n",
    "ace2_residues = {}\n",
    "\n",
    "residue_links = {} "
   ]
  },
  {
   "cell_type": "code",
   "execution_count": 14,
   "metadata": {},
   "outputs": [],
   "source": [
    "# function to get residue data\n",
    "def getResidueData(residue, complex):\n",
    "    # getting a Residue involves making a Hierarchial View\n",
    "    # which is a lot of computation\n",
    "    # so it's easier to get the data from any one atom\n",
    "\n",
    "    data = {}\n",
    "\n",
    "    data['pdb']     = str(residue.getChain().getAtomGroup())[-4:]\n",
    "    data['id']      = complex + '_' + str(residue.getResindex())\n",
    "    data['chain']   = residue.getChid()\n",
    "    data['resnum']  = int(residue.getResnum())\n",
    "    data['aa']      = residue.getResname()\n",
    "    data['name']    = data['chain'] + str(data['resnum']) + '_' + data['aa']\n",
    "    data['bonds']   = 1 # number of atoms this residue's atoms are bonded with`\n",
    "    \n",
    "    return data"
   ]
  },
  {
   "cell_type": "code",
   "execution_count": 15,
   "metadata": {},
   "outputs": [],
   "source": [
    "# store interacting nodes and links \n",
    "\n",
    "nodes = {\n",
    "    'cov' : {\n",
    "        'spike': {},\n",
    "        'recep': {}\n",
    "    },\n",
    "    'cov2': {\n",
    "        'spike': {},\n",
    "        'recep': {}\n",
    "    }\n",
    "}\n",
    "\n",
    "links = {\n",
    "    'cov' : {},\n",
    "    'cov2': {}\n",
    "}\n",
    "\n",
    "for complex in ['cov', 'cov2']:\n",
    "\n",
    "    for pair in interactions[complex]:\n",
    "        atom1, atom2, distance = pair\n",
    "\n",
    "        atom1_resindex = atom1.getResindex()\n",
    "        atom2_resindex = atom2.getResindex()\n",
    "        atom1_complex_resindex = complex + '_' + str(atom1_resindex)\n",
    "        atom2_complex_resindex = complex + '_' + str(atom2_resindex)\n",
    "        \n",
    "        # add if residue is not present\n",
    "        if atom1_complex_resindex not in nodes[complex]['spike'].keys():\n",
    "            # can't get residue from atom\n",
    "            # get residue number from atom\n",
    "            # select residue by residue number from chain\n",
    "            # obtain data using custom function\n",
    "            atom1_resnum  = atom1.getResnum()\n",
    "            residue1      = chains[complex]['spike'].getResidue(atom1_resnum)\n",
    "            residue1_data = getResidueData(residue1, complex)\n",
    "            nodes[complex]['spike'][atom1_complex_resindex] = residue1_data\n",
    "        else:\n",
    "            # increment number of connections for atom and residue\n",
    "            print(\"hello\")\n",
    "            nodes[complex]['spike'][atom1_complex_resindex]['bonds'] += 1\n",
    "\n",
    "        if atom2_complex_resindex not in nodes[complex]['recep'].keys():\n",
    "            atom2_resnum  = atom2.getResnum()\n",
    "            residue2      = chains[complex]['recep'].getResidue(atom2_resnum)\n",
    "            residue2_data = getResidueData(residue2, complex)\n",
    "            nodes[complex]['recep'][atom2_complex_resindex] = residue2_data\n",
    "        else:\n",
    "            # increment number of connections for atom and residue\n",
    "            print(\"hi\")\n",
    "            nodes[complex]['recep'][atom2_complex_resindex]['bonds'] += 1\n",
    "\n",
    "        if (atom1_complex_resindex, atom2_complex_resindex) in links[complex].keys():\n",
    "            links[complex][(atom1_complex_resindex, atom2_complex_resindex)]['strength'] += 1\n",
    "        else:\n",
    "            links[complex][(atom1_complex_resindex, atom2_complex_resindex)] = {\n",
    "                \"source\":   atom1_complex_resindex,\n",
    "                \"target\":   atom2_complex_resindex,\n",
    "                \"strength\": 1\n",
    "            }"
   ]
  },
  {
   "cell_type": "code",
   "execution_count": 16,
   "metadata": {},
   "outputs": [],
   "source": [
    "# extract resnum of interacting residues \n",
    "\n",
    "interacting_residues = {\n",
    "    'cov':  {\n",
    "        'spike': [],\n",
    "        'recep': []\n",
    "    },\n",
    "    'cov2': {\n",
    "        'spike': [],\n",
    "        'recep': []\n",
    "    }\n",
    "}\n",
    "\n",
    "for complex in ['cov', 'cov2']:\n",
    "    for chain in ['spike', 'recep']:\n",
    "        for resindex in nodes[complex][chain].keys():\n",
    "            resnum = nodes[complex][chain][resindex]['resnum'] \n",
    "            interacting_residues[complex][chain].append((resindex, resnum))\n"
   ]
  },
  {
   "cell_type": "code",
   "execution_count": 17,
   "metadata": {
    "tags": []
   },
   "outputs": [
    {
     "output_type": "stream",
     "name": "stdout",
     "text": "match!\nmatch!\nmatch!\nmatch!\nmatch!\nmatch!\nmatch!\nmatch!\nmatch!\nmatch!\nmatch!\nmatch!\nmatch!\nmatch!\nmatch!\nmatch!\nmatch!\nmatch!\nmatch!\nmatch!\nmatch!\nmatch!\nmatch!\nmatch!\nmatch!\nmatch!\nmatch!\nmatch!\nmatch!\nmatch!\nmatch!\nmatch!\nmatch!\nmatch!\nmatch!\nmatch!\nmatch!\nmatch!\n"
    }
   ],
   "source": [
    "complex1 = 'cov'\n",
    "complex2 = 'cov2'\n",
    "\n",
    "for chain in ['spike', 'recep']:\n",
    "    counter = 0\n",
    "    for a_index, a_num in interacting_residues[complex1][chain]:\n",
    "        for b_index, b_num in interacting_residues[complex2][chain]:\n",
    "            if (a_num, b_num) in maps[chain]:\n",
    "                print('match!')\n",
    "                nodes[complex1][chain][a_index]['corresp'] = chain + '_' + str(counter)\n",
    "                nodes[complex2][chain][b_index]['corresp'] = chain + '_' + str(counter)\n",
    "                counter += 1"
   ]
  },
  {
   "cell_type": "code",
   "execution_count": 18,
   "metadata": {},
   "outputs": [],
   "source": [
    "nodes_json = []\n",
    "dictionaries = [nodes['cov']['spike'], nodes['cov']['recep'], nodes['cov2']['spike'], nodes['cov2']['recep']]\n",
    "for dictionary in dictionaries:\n",
    "    for key in dictionary.keys():\n",
    "        nodes_json.append(dictionary[key])\n",
    "\n",
    "links_json = []\n",
    "dictionaries = [links['cov'], links['cov2']]\n",
    "for dictionary in dictionaries:\n",
    "    for key in dictionary.keys():\n",
    "        links_json.append(dictionary[key])\n",
    "\n",
    "\n",
    "interactions_json = {\n",
    "    \"nodes\": nodes_json,\n",
    "    \"links\": links_json\n",
    "}\n",
    "\n",
    "with open('interactions.json', 'w') as file:\n",
    "    json.dump(interactions_json, file, indent=2)"
   ]
  },
  {
   "cell_type": "code",
   "execution_count": null,
   "metadata": {},
   "outputs": [],
   "source": []
  }
 ],
 "metadata": {
  "kernelspec": {
   "display_name": "Python 3.7.5 64-bit",
   "language": "python",
   "name": "python37564bit46f60de5514a4b5480af032435df6bab"
  },
  "language_info": {
   "codemirror_mode": {
    "name": "ipython",
    "version": 3
   },
   "file_extension": ".py",
   "mimetype": "text/x-python",
   "name": "python",
   "nbconvert_exporter": "python",
   "pygments_lexer": "ipython3",
   "version": "3.7.5-final"
  }
 },
 "nbformat": 4,
 "nbformat_minor": 4
}