{
 "cells": [
  {
   "cell_type": "code",
   "execution_count": 1,
   "metadata": {},
   "outputs": [],
   "source": [
    "from prody import *\n",
    "from pylab import *\n",
    "import json\n",
    "from statistics import mean"
   ]
  },
  {
   "cell_type": "code",
   "execution_count": 2,
   "metadata": {},
   "outputs": [
    {
     "output_type": "stream",
     "name": "stderr",
     "text": "@> PDB file is found in working directory (6m0j.pdb).\n@> 6558 atoms and 1 coordinate set(s) were parsed in 0.08s.\n@> PDB file is found in working directory (2ajf.pdb).\n@> 12777 atoms and 1 coordinate set(s) were parsed in 0.13s.\n"
    }
   ],
   "source": [
    "cov2 = parsePDB('6M0J').getHierView()\n",
    "cov  = parsePDB('2AJF').getHierView()"
   ]
  },
  {
   "cell_type": "code",
   "execution_count": 3,
   "metadata": {},
   "outputs": [],
   "source": [
    "chains = {\n",
    "    'cov' : {\n",
    "        'spike': cov['E'],\n",
    "        'recep': cov['A']\n",
    "    },\n",
    "    'cov2': {\n",
    "        'spike': cov2['E'],\n",
    "        'recep': cov2['A']\n",
    "    }\n",
    "}"
   ]
  },
  {
   "cell_type": "code",
   "execution_count": 4,
   "metadata": {},
   "outputs": [],
   "source": [
    "sequences = {\n",
    "    'spikes' : [chains['cov']['spike'].getSequence(), chains['cov2']['spike'].getSequence()],\n",
    "    'receps' : [chains['cov']['recep'].getSequence(), chains['cov2']['recep'].getSequence()]\n",
    "}"
   ]
  },
  {
   "cell_type": "code",
   "execution_count": 5,
   "metadata": {},
   "outputs": [
    {
     "output_type": "stream",
     "name": "stderr",
     "text": "@> 2 sequence(s) with 204 residues were parsed in 0.00s.\n@> 2 sequence(s) with 597 residues were parsed in 0.00s.\n"
    }
   ],
   "source": [
    "alignments = {\n",
    "    'spikes': buildMSA(sequences['spikes'], title='spike'),\n",
    "    'receps': buildMSA(sequences['receps'], title='recep')\n",
    "}"
   ]
  },
  {
   "cell_type": "code",
   "execution_count": 6,
   "metadata": {},
   "outputs": [],
   "source": [
    "threshold = 3\n",
    "\n",
    "interactions = {\n",
    "    'cov' : findNeighbors(atoms=chains['cov']['spike'],  radius=threshold, atoms2=chains['cov']['recep']),\n",
    "    'cov2': findNeighbors(atoms=chains['cov2']['spike'], radius=threshold, atoms2=chains['cov2']['recep'])\n",
    "}"
   ]
  },
  {
   "cell_type": "code",
   "execution_count": 7,
   "metadata": {},
   "outputs": [],
   "source": [
    "# index offsets used later for comparison\n",
    "offsets = {\n",
    "    'cov': {\n",
    "        'spike': chains['cov']['spike'][0].getIndex(),\n",
    "        'recep': chains['cov']['recep'][0].getIndex(),\n",
    "    },\n",
    "    'cov2': {\n",
    "        'spike': chains['cov2']['spike'][0].getIndex(),\n",
    "        'recep': chains['cov2']['recep'][0].getIndex(),\n",
    "    }   \n",
    "}"
   ]
  },
  {
   "cell_type": "code",
   "execution_count": 32,
   "metadata": {},
   "outputs": [
    {
     "output_type": "error",
     "ename": "TypeError",
     "evalue": "'generator' object is not subscriptable",
     "traceback": [
      "\u001b[0;31m---------------------------------------------------------------------------\u001b[0m",
      "\u001b[0;31mTypeError\u001b[0m                                 Traceback (most recent call last)",
      "\u001b[0;32m<ipython-input-32-7bde7352351f>\u001b[0m in \u001b[0;36m<module>\u001b[0;34m\u001b[0m\n\u001b[0;32m----> 1\u001b[0;31m \u001b[0;32mfor\u001b[0m \u001b[0mresidue\u001b[0m \u001b[0;32min\u001b[0m \u001b[0miter\u001b[0m\u001b[0;34m(\u001b[0m\u001b[0mchains\u001b[0m\u001b[0;34m[\u001b[0m\u001b[0;34m'cov'\u001b[0m\u001b[0;34m]\u001b[0m\u001b[0;34m[\u001b[0m\u001b[0;34m'spike'\u001b[0m\u001b[0;34m]\u001b[0m\u001b[0;34m)\u001b[0m\u001b[0;34m[\u001b[0m\u001b[0;36m0\u001b[0m\u001b[0;34m]\u001b[0m\u001b[0;34m:\u001b[0m\u001b[0;34m\u001b[0m\u001b[0;34m\u001b[0m\u001b[0m\n\u001b[0m\u001b[1;32m      2\u001b[0m     \u001b[0mprint\u001b[0m\u001b[0;34m(\u001b[0m\u001b[0mtype\u001b[0m\u001b[0;34m(\u001b[0m\u001b[0mresidue\u001b[0m\u001b[0;34m)\u001b[0m\u001b[0;34m)\u001b[0m\u001b[0;34m\u001b[0m\u001b[0;34m\u001b[0m\u001b[0m\n",
      "\u001b[0;31mTypeError\u001b[0m: 'generator' object is not subscriptable"
     ]
    }
   ],
   "source": [
    "for residue in iter(chains['cov']['spike']):\n",
    "    "
   ]
  },
  {
   "cell_type": "code",
   "execution_count": 17,
   "metadata": {},
   "outputs": [
    {
     "output_type": "stream",
     "name": "stdout",
     "text": "1              \t---CPFGEVFNATKFPSVYAWERKKISNCVADYSVLYNSTFFSTFKCYGVSATKLN----\n2              \tTNLCPFGEVFNATRFASVYAWNRKRISNCVADYSVLYNSASFSTFKCYGVSPTKLNDLCF\n\n1              \t--VYADSFVVKGDDVRQIAPGQTGVIADYNYKLPDDFMGCVLAWNTRNIDATSTGNYNYK\n2              \tTNVYADSFVIRGDEVRQIAPGQTGKIADYNYKLPDDFTGCVIAWNSNNLDSKVGGNYNYL\n\n1              \tYRYLRHGKLRPFERDISNVPFSPDGKPCT-PPALNCYWPLNDYGFYTTTGIGYQPYRVVV\n2              \tYRLFRKSNLKPFERDISTEIYQAGSTPCNGVEGFNCYFPLQSYGFQPTNGVGYQPYRVVV\n\n1              \tLSFE--------------------\n2              \tLSFELLHAPATVCG----------\n\n"
    }
   ],
   "source": [
    "showAlignment(alignments['spikes'])"
   ]
  },
  {
   "cell_type": "code",
   "execution_count": null,
   "metadata": {},
   "outputs": [],
   "source": []
  }
 ],
 "metadata": {
  "kernelspec": {
   "display_name": "Python 3.7.5 64-bit",
   "language": "python",
   "name": "python37564bit46f60de5514a4b5480af032435df6bab"
  },
  "language_info": {
   "codemirror_mode": {
    "name": "ipython",
    "version": 3
   },
   "file_extension": ".py",
   "mimetype": "text/x-python",
   "name": "python",
   "nbconvert_exporter": "python",
   "pygments_lexer": "ipython3",
   "version": "3.7.5-final"
  }
 },
 "nbformat": 4,
 "nbformat_minor": 4
}