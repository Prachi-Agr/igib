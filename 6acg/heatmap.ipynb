{
 "cells": [
  {
   "cell_type": "code",
   "execution_count": 1,
   "metadata": {},
   "outputs": [],
   "source": [
    "import json\n",
    "import numpy as np\n",
    "import seaborn as sb\n",
    "import matplotlib.pyplot as plt"
   ]
  },
  {
   "cell_type": "code",
   "execution_count": 2,
   "metadata": {},
   "outputs": [],
   "source": [
    "with open('residue_interactions.json') as file:\n",
    "    data = json.load(file)"
   ]
  },
  {
   "cell_type": "code",
   "execution_count": 3,
   "metadata": {},
   "outputs": [],
   "source": [
    "spike_residues = set()\n",
    "ace2_residues  = set()\n",
    "\n",
    "for node in data['nodes']:\n",
    "    if node['chain'] == 'C':\n",
    "        spike_residues.add(node['name'])\n",
    "    elif node['chain'] == 'D':\n",
    "        ace2_residues.add(node['name'])"
   ]
  },
  {
   "cell_type": "code",
   "execution_count": 6,
   "metadata": {},
   "outputs": [],
   "source": [
    "matrix = {}\n",
    "\n",
    "for node1 in spike_residues:\n",
    "    matrix[node1] = {}\n",
    "    for node2 in ace2_residues:\n",
    "        matrix[node1][node2] = 0"
   ]
  },
  {
   "cell_type": "code",
   "execution_count": 8,
   "metadata": {},
   "outputs": [],
   "source": [
    "for link in data['links']:\n",
    "    for node in spike_residues:\n",
    "        if node.split('_')[0] == link['source']:\n",
    "            source = node\n",
    "            break\n",
    "    for node in ace2_residues:\n",
    "        if node.split('_')[0] == link['target']:\n",
    "            target = node\n",
    "            break\n",
    "    matrix[source][target] = link['bonds']"
   ]
  },
  {
   "cell_type": "code",
   "execution_count": null,
   "metadata": {},
   "outputs": [],
   "source": []
  }
 ],
 "metadata": {
  "language_info": {
   "codemirror_mode": {
    "name": "ipython",
    "version": 3
   },
   "file_extension": ".py",
   "mimetype": "text/x-python",
   "name": "python",
   "nbconvert_exporter": "python",
   "pygments_lexer": "ipython3",
   "version": "3.7.5-final"
  },
  "orig_nbformat": 2,
  "kernelspec": {
   "name": "python37564bit46f60de5514a4b5480af032435df6bab",
   "display_name": "Python 3.7.5 64-bit"
  }
 },
 "nbformat": 4,
 "nbformat_minor": 2
}