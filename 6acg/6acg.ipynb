{
 "cells": [
  {
   "cell_type": "code",
   "execution_count": 1,
   "metadata": {},
   "outputs": [],
   "source": [
    "from prody import *\n",
    "from pylab import *\n",
    "import json\n",
    "from statistics import mean"
   ]
  },
  {
   "cell_type": "code",
   "execution_count": 2,
   "metadata": {},
   "outputs": [
    {
     "output_type": "stream",
     "name": "stderr",
     "text": "@> PDB file is found in working directory (6acg.pdb).\n@> 29715 atoms and 1 coordinate set(s) were parsed in 0.33s.\n"
    }
   ],
   "source": [
    "pdb, header = parsePDB('6acg', header=True)"
   ]
  },
  {
   "cell_type": "code",
   "execution_count": 3,
   "metadata": {},
   "outputs": [],
   "source": [
    "# get contacts\n",
    "spike_contacts = pdb.select('chain A B C and within 5 of chain D')\n",
    "ace2_contacts = pdb.select('chain D and within 5 of chain A B C')\n",
    "\n",
    "# writePDB('spike_contacts.pdb', spike_contacts)\n",
    "# writePDB('ace2_contacts.pdb', ace2_contacts)"
   ]
  },
  {
   "cell_type": "code",
   "execution_count": 4,
   "metadata": {},
   "outputs": [],
   "source": [
    "spike = pdb.select('chain A B C')\n",
    "ace2  = pdb.select('chain D')"
   ]
  },
  {
   "cell_type": "code",
   "execution_count": 5,
   "metadata": {},
   "outputs": [],
   "source": [
    "interactions = findNeighbors(atoms=spike, radius=5, atoms2=ace2)"
   ]
  },
  {
   "cell_type": "code",
   "execution_count": 6,
   "metadata": {},
   "outputs": [],
   "source": [
    "# data structures to store nodes and links\n",
    "# dictionaries used to avoid duplicates\n",
    "# converted to lists later\n",
    "\n",
    "spike_atoms = {}\n",
    "ace2_atoms = {}\n",
    "\n",
    "atom_links = []\n",
    "\n",
    "spike_residues = {}\n",
    "ace2_residues = {}\n",
    "\n",
    "residue_links = {} \n",
    "# dictionary because mutliple links possible\n",
    "# just increment count instead"
   ]
  },
  {
   "cell_type": "code",
   "execution_count": 7,
   "metadata": {},
   "outputs": [],
   "source": [
    "# function to format atom data\n",
    "def getAtomData(atom):\n",
    "    data = {}\n",
    "\n",
    "    data[\"id\"]       = int(atom.getIndex())\n",
    "    data[\"atom\"]     = atom.getData('name')\n",
    "    data[\"chain\"]    = atom.getData('chain')\n",
    "    data[\"resname\"]  = atom.getData('resname')\n",
    "    data[\"resnum\"]   = int(atom.getData('resnum'))\n",
    "    data[\"resindex\"] = int(atom.getData('resindex'))\n",
    "    data[\"name\"]     = \" \".join([data[\"chain\"], data['resname'], str(data['resnum']), data['atom']])\n",
    "    data[\"bonds\"]    = 1 # number of atoms this atom is bonded with\n",
    "\n",
    "    data['fx'], data['fy'], data['fz'] = tuple(atom.getCoords())\n",
    "    data['fx'] = float(data['fx'])\n",
    "    data['fy'] = float(data['fy'])\n",
    "    data['fz'] = float(data['fz'])\n",
    "    \n",
    "    \n",
    "    return data\n",
    "\n",
    "# function to get residue data\n",
    "def getResidueData(residue):\n",
    "    # getting a Residue involves making a Hierarchial View\n",
    "    # which is a lot of computation\n",
    "    # so it's easier to get the data from any one atom\n",
    "    atom = residue[0]\n",
    "\n",
    "    data = {}\n",
    "\n",
    "    data['id'] = int(atom.getData('resindex'))\n",
    "    data['chain'] = atom.getData('chain')\n",
    "    data['resnum'] = int(atom.getData('resnum'))\n",
    "    data['aa'] = atom.getData('resname')\n",
    "    data['name'] = data['chain'] + str(data['resnum']) + '_' + data['aa']\n",
    "    \n",
    "    coordinates_list = residue.getCoords()\n",
    "    data['fx'] = float(mean([coordinates[0] for coordinates in coordinates_list]))\n",
    "    data['fy'] = float(mean([coordinates[1] for coordinates in coordinates_list]))\n",
    "    data['fz'] = float(mean([coordinates[2] for coordinates in coordinates_list]))\n",
    "\n",
    "    data['bonds'] = 1 # number of atoms this residue's atoms are bonded with`\n",
    "\n",
    "    return data\n"
   ]
  },
  {
   "cell_type": "code",
   "execution_count": 8,
   "metadata": {},
   "outputs": [],
   "source": [
    "# store nodes and links \n",
    "for pair in interactions:\n",
    "    a, b, distance = pair\n",
    "\n",
    "    assert(a.getChid() == 'C')\n",
    "    assert(b.getChid() == 'D')\n",
    "\n",
    "    spike_atom_ID = a.getIndex()\n",
    "    ace2_atom_ID  = b.getIndex()\n",
    "\n",
    "    spike_residue_ID = a.getResindex()\n",
    "    ace2_residue_ID  = b.getResindex()\n",
    "    \n",
    "    # check if atom is already present\n",
    "    if spike_atom_ID not in spike_atoms.keys():\n",
    "        spike_atom = getAtomData(a)\n",
    "        spike_atoms[spike_atom_ID] = spike_atom\n",
    "\n",
    "        # if atom is present, residue must be present,\n",
    "        # no point of checking it outside this if branch\n",
    "        if spike_residue_ID not in spike_residues.keys():\n",
    "            spike_residue = pdb.select('resindex ' + str(spike_residue_ID))\n",
    "            spike_residue = getResidueData(spike_residue)\n",
    "            spike_residues[spike_residue_ID] = spike_residue\n",
    "    else:\n",
    "        # increment number of connections for atom and residue\n",
    "        spike_atoms[spike_atom_ID]['bonds'] += 1\n",
    "        spike_residues[spike_residue_ID]['bonds'] += 1\n",
    "\n",
    "    if ace2_atom_ID not in ace2_atoms.keys():\n",
    "        ace2_atom = getAtomData(a)\n",
    "        ace2_atoms[ace2_atom_ID] = ace2_atom\n",
    "\n",
    "        if ace2_residue_ID not in ace2_residues.keys():\n",
    "            ace2_residue = pdb.select('resindex ' + str(ace2_residue_ID))\n",
    "            ace2_residue = getResidueData(ace2_residue)\n",
    "            ace2_residues[ace2_residue['id']] = ace2_residue\n",
    "    else:\n",
    "        ace2_atoms[ace2_atom_ID]['bonds'] += 1\n",
    "        ace2_residues[ace2_residue_ID]['bonds'] += 1\n",
    "\n",
    "    atom_links.append({\n",
    "        \"source\": spike_atom['id'],\n",
    "        \"target\": ace2_atom['id'],\n",
    "        \"distance\": float(distance)\n",
    "    })\n",
    "\n",
    "    if (spike_residue_ID, ace2_residue_ID) in residue_links.keys():\n",
    "        residue_links[(spike_residue_ID, ace2_residue_ID)]['strength'] += 1\n",
    "    else:\n",
    "        residue_links[(spike_residue_ID, ace2_residue_ID)] = {\n",
    "            \"source\":   int(spike_residue_ID),\n",
    "            \"target\":   int(ace2_residue_ID),\n",
    "            \"strength\": 1\n",
    "        }"
   ]
  },
  {
   "cell_type": "code",
   "execution_count": 9,
   "metadata": {},
   "outputs": [],
   "source": [
    "# sort nodes by bonds\n",
    "spike_atoms = sorted(spike_atoms.values(), key = (lambda i : i['bonds']), reverse=True)\n",
    "ace2_atoms  = sorted(ace2_atoms.values(),  key = (lambda i : i['bonds']), reverse=False)\n",
    "\n",
    "spike_residues = sorted(spike_residues.values(), key = (lambda i : i['bonds']), reverse=True)\n",
    "ace2_residues  = sorted(ace2_residues.values(),  key = (lambda i : i['bonds']), reverse=False)\n",
    "\n",
    "# sort links by distance and strength\n",
    "atom_links = sorted(atom_links, key = (lambda i : i['distance']), reverse=False)\n",
    "residue_links = sorted(residue_links.values(), key = (lambda i : i['strength']), reverse=True)\n"
   ]
  },
  {
   "cell_type": "code",
   "execution_count": 10,
   "metadata": {},
   "outputs": [
    {
     "output_type": "stream",
     "name": "stdout",
     "text": "210.16135204081633 205.19093877551018 119.44444387755088\n"
    }
   ],
   "source": [
    "x_sum, y_sum, z_sum = 0, 0, 0\n",
    "for atom in spike_atoms + ace2_atoms:\n",
    "    x_sum += atom['fx']\n",
    "    y_sum += atom['fy']\n",
    "    z_sum += atom['fz']\n",
    "n = len(spike_atoms) + len(ace2_atoms)\n",
    "x_avg, y_avg, z_avg = x_sum / n, y_sum / n, z_sum / n\n",
    "\n",
    "print(x_avg, y_avg, z_avg)\n",
    "\n",
    "for atom in spike_atoms + ace2_atoms:\n",
    "    atom['fx'] = atom['fx'] - x_avg\n",
    "    atom['fy'] = atom['fy'] - y_avg\n",
    "    atom['fz'] = atom['fz'] - z_avg\n",
    "\n",
    "for residue in spike_residues + ace2_residues:\n",
    "    residue['fx'] = residue['fx'] - x_avg\n",
    "    residue['fy'] = residue['fy'] - y_avg\n",
    "    residue['fz'] = residue['fz'] - z_avg"
   ]
  },
  {
   "cell_type": "code",
   "execution_count": 11,
   "metadata": {},
   "outputs": [
    {
     "output_type": "stream",
     "name": "stdout",
     "text": "-1.006574544123204 0.5514214930985286 -0.9670664785609819\n"
    }
   ],
   "source": [
    "x_sum, y_sum, z_sum = 0, 0, 0\n",
    "for residue in spike_residues + ace2_residues:\n",
    "    x_sum += residue['fx']\n",
    "    y_sum += residue['fy']\n",
    "    z_sum += residue['fz']\n",
    "n = len(spike_residues) + len(ace2_residues)\n",
    "x_avg, y_avg, z_avg = x_sum / n, y_sum / n, z_sum / n\n",
    "\n",
    "print(x_avg, y_avg, z_avg)"
   ]
  },
  {
   "cell_type": "code",
   "execution_count": 12,
   "metadata": {},
   "outputs": [],
   "source": [
    "atom_interactions = {\n",
    "    \"nodes\": spike_atoms + ace2_atoms,\n",
    "    \"links\": atom_links\n",
    "}\n",
    "\n",
    "residue_interactions = {\n",
    "    \"nodes\": spike_residues + ace2_residues,\n",
    "    \"links\": residue_links\n",
    "}"
   ]
  },
  {
   "cell_type": "code",
   "execution_count": 13,
   "metadata": {},
   "outputs": [],
   "source": [
    "# write to json\n",
    "with open('3d_atom_interactions.json', 'w') as file:\n",
    "    json.dump(atom_interactions, file, indent=2)"
   ]
  },
  {
   "cell_type": "code",
   "execution_count": 14,
   "metadata": {},
   "outputs": [
    {
     "output_type": "stream",
     "name": "stdout",
     "text": "<class 'int'>\n2595\n"
    }
   ],
   "source": [
    "hello = residue_interactions['links'][0]['source']\n",
    "\n",
    "print(type(hello))\n",
    "print(hello)"
   ]
  },
  {
   "cell_type": "code",
   "execution_count": 15,
   "metadata": {},
   "outputs": [],
   "source": [
    "with open('3d_residue_interactions.json', 'w') as file:\n",
    "    json.dump(residue_interactions, file, indent=2)"
   ]
  }
 ],
 "metadata": {
  "kernelspec": {
   "display_name": "Python 3.7.5 64-bit",
   "language": "python",
   "name": "python37564bit46f60de5514a4b5480af032435df6bab"
  },
  "language_info": {
   "codemirror_mode": {
    "name": "ipython",
    "version": 3
   },
   "file_extension": ".py",
   "mimetype": "text/x-python",
   "name": "python",
   "nbconvert_exporter": "python",
   "pygments_lexer": "ipython3",
   "version": "3.7.5-final"
  }
 },
 "nbformat": 4,
 "nbformat_minor": 4
}