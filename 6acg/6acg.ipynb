{
 "cells": [
  {
   "cell_type": "code",
   "execution_count": 1,
   "metadata": {},
   "outputs": [],
   "source": [
    "from prody import *\n",
    "from pylab import *"
   ]
  },
  {
   "cell_type": "code",
   "execution_count": 2,
   "metadata": {},
   "outputs": [
    {
     "output_type": "stream",
     "name": "stderr",
     "text": "@> PDB file is found in working directory (6acg.pdb).\n@> 29715 atoms and 1 coordinate set(s) were parsed in 0.46s.\n"
    }
   ],
   "source": [
    "pdb, header = parsePDB('6acg', header=True)"
   ]
  },
  {
   "cell_type": "code",
   "execution_count": 3,
   "metadata": {},
   "outputs": [],
   "source": [
    "spike_contacts = pdb.select('chain A B C and within 4 of chain D')"
   ]
  },
  {
   "cell_type": "code",
   "execution_count": 4,
   "metadata": {},
   "outputs": [],
   "source": [
    "ace2_contacts = pdb.select('chain D and within 4 of chain A B C')"
   ]
  },
  {
   "cell_type": "code",
   "execution_count": null,
   "metadata": {},
   "outputs": [],
   "source": []
  },
  {
   "cell_type": "code",
   "execution_count": 5,
   "metadata": {},
   "outputs": [
    {
     "output_type": "execute_result",
     "data": {
      "text/plain": "'ace2_contacts.pdb'"
     },
     "metadata": {},
     "execution_count": 5
    }
   ],
   "source": [
    "writePDB('spike_contacts.pdb', spike_contacts)\n",
    "writePDB('ace2_contacts.pdb', ace2_contacts)"
   ]
  },
  {
   "cell_type": "code",
   "execution_count": 6,
   "metadata": {},
   "outputs": [],
   "source": [
    "spike = pdb.select('chain A B C')\n",
    "ace2  = pdb.select('chain D')"
   ]
  },
  {
   "cell_type": "code",
   "execution_count": 7,
   "metadata": {},
   "outputs": [
    {
     "output_type": "execute_result",
     "data": {
      "text/plain": "109"
     },
     "metadata": {},
     "execution_count": 7
    }
   ],
   "source": [
    "interactions = findNeighbors(atoms=spike, radius=4, atoms2=ace2)\n",
    "len(interactions)"
   ]
  },
  {
   "cell_type": "code",
   "execution_count": 8,
   "metadata": {},
   "outputs": [
    {
     "output_type": "stream",
     "name": "stdout",
     "text": "46 53\n"
    }
   ],
   "source": [
    "spike_atoms = set()\n",
    "ace2_atoms = set()\n",
    "for pair in interactions:\n",
    "    spike_atom, ace2_atom, _ = pair\n",
    "    spike_atoms.add(spike_atom.getIndex())\n",
    "    ace2_atoms.add(ace2_atom.getIndex())\n",
    "print(len(spike_atoms), len(ace2_atoms))"
   ]
  },
  {
   "cell_type": "code",
   "execution_count": 9,
   "metadata": {},
   "outputs": [
    {
     "output_type": "execute_result",
     "data": {
      "text/plain": "<Selection: 'chain A B C and...in 4 of chain D' from 6acg (46 atoms)>"
     },
     "metadata": {},
     "execution_count": 9
    }
   ],
   "source": [
    "spike_contacts"
   ]
  },
  {
   "cell_type": "code",
   "execution_count": 10,
   "metadata": {},
   "outputs": [
    {
     "output_type": "execute_result",
     "data": {
      "text/plain": "<Selection: 'chain D and wit... of chain A B C' from 6acg (53 atoms)>"
     },
     "metadata": {},
     "execution_count": 10
    }
   ],
   "source": [
    "ace2_contacts"
   ]
  },
  {
   "cell_type": "code",
   "execution_count": 11,
   "metadata": {},
   "outputs": [
    {
     "output_type": "stream",
     "name": "stdout",
     "text": "(<Atom: ND2 from 6acg (index 20182)>, <Atom: C from 6acg (index 24886)>, 3.9399734)\n(<Atom: ND2 from 6acg (index 20182)>, <Atom: O from 6acg (index 24887)>, 3.4560294)\n(<Atom: CG from 6acg (index 20180)>, <Atom: CB from 6acg (index 24888)>, 3.629448)\n(<Atom: CB from 6acg (index 20179)>, <Atom: CB from 6acg (index 24888)>, 3.8500566)\n(<Atom: ND2 from 6acg (index 20182)>, <Atom: CB from 6acg (index 24888)>, 3.5164847)\n(<Atom: OD1 from 6acg (index 20181)>, <Atom: CG from 6acg (index 24889)>, 3.776225)\n(<Atom: CG from 6acg (index 20180)>, <Atom: CG from 6acg (index 24889)>, 3.6489162)\n(<Atom: ND2 from 6acg (index 20182)>, <Atom: CG from 6acg (index 24889)>, 3.6976874)\n(<Atom: OD1 from 6acg (index 20181)>, <Atom: CD from 6acg (index 24890)>, 3.2149744)\n(<Atom: CG from 6acg (index 20180)>, <Atom: CD from 6acg (index 24890)>, 3.4340591)\n(<Atom: CB from 6acg (index 20179)>, <Atom: CD from 6acg (index 24890)>, 3.9254105)\n(<Atom: OD1 from 6acg (index 20181)>, <Atom: OE1 from 6acg (index 24891)>, 3.2044277)\n(<Atom: CG from 6acg (index 20180)>, <Atom: OE1 from 6acg (index 24891)>, 3.2752028)\n(<Atom: CB from 6acg (index 20179)>, <Atom: OE1 from 6acg (index 24891)>, 3.2878103)\n(<Atom: OD1 from 6acg (index 20181)>, <Atom: NE2 from 6acg (index 24892)>, 3.534832)\n(<Atom: CE2 from 6acg (index 20198)>, <Atom: CG2 from 6acg (index 24913)>, 3.6967058)\n(<Atom: CD2 from 6acg (index 20196)>, <Atom: CG2 from 6acg (index 24913)>, 3.5020416)\n(<Atom: CD2 from 6acg (index 19947)>, <Atom: CG2 from 6acg (index 24913)>, 3.6522481)\n(<Atom: OH from 6acg (index 20200)>, <Atom: CA from 6acg (index 24915)>, 3.6328158)\n(<Atom: CZ from 6acg (index 20199)>, <Atom: CA from 6acg (index 24915)>, 3.967589)\n(<Atom: OH from 6acg (index 20200)>, <Atom: CB from 6acg (index 24918)>, 3.219104)\n(<Atom: OH from 6acg (index 20200)>, <Atom: CG from 6acg (index 24919)>, 3.5817602)\n(<Atom: OH from 6acg (index 20200)>, <Atom: CD1 from 6acg (index 24920)>, 3.16859)\n(<Atom: CE2 from 6acg (index 19937)>, <Atom: CB from 6acg (index 24937)>, 3.7164235)\n(<Atom: CD2 from 6acg (index 19935)>, <Atom: CB from 6acg (index 24937)>, 3.8567438)\n(<Atom: CE2 from 6acg (index 19937)>, <Atom: N from 6acg (index 24941)>, 3.902423)\n(<Atom: OH from 6acg (index 19939)>, <Atom: N from 6acg (index 24941)>, 3.780715)\n(<Atom: OH from 6acg (index 19939)>, <Atom: CA from 6acg (index 24942)>, 3.2775347)\n(<Atom: OH from 6acg (index 19939)>, <Atom: CB from 6acg (index 24945)>, 3.2786584)\n(<Atom: OH from 6acg (index 19939)>, <Atom: CG from 6acg (index 24946)>, 3.7482953)\n(<Atom: CE1 from 6acg (index 20197)>, <Atom: NZ from 6acg (index 24949)>, 3.885719)\n(<Atom: CD1 from 6acg (index 20195)>, <Atom: NZ from 6acg (index 24949)>, 3.5601041)\n(<Atom: OH from 6acg (index 19916)>, <Atom: CB from 6acg (index 24973)>, 3.5586562)\n(<Atom: OH from 6acg (index 19916)>, <Atom: CG from 6acg (index 24974)>, 3.1193624)\n(<Atom: OH from 6acg (index 19916)>, <Atom: ND1 from 6acg (index 24975)>, 3.7017827)\n(<Atom: OH from 6acg (index 19916)>, <Atom: CD2 from 6acg (index 24976)>, 3.044653)\n(<Atom: OH from 6acg (index 19916)>, <Atom: CE1 from 6acg (index 24977)>, 3.9378364)\n(<Atom: OH from 6acg (index 19916)>, <Atom: NE2 from 6acg (index 24978)>, 3.5800471)\n(<Atom: OH from 6acg (index 19875)>, <Atom: CG from 6acg (index 25007)>, 3.1355746)\n(<Atom: CZ from 6acg (index 19874)>, <Atom: CG from 6acg (index 25007)>, 3.764411)\n(<Atom: OH from 6acg (index 19875)>, <Atom: OD1 from 6acg (index 25008)>, 2.8138797)\n(<Atom: CA from 6acg (index 20259)>, <Atom: OD1 from 6acg (index 25008)>, 3.330078)\n(<Atom: CZ from 6acg (index 19874)>, <Atom: OD1 from 6acg (index 25008)>, 3.4671886)\n(<Atom: CE1 from 6acg (index 19872)>, <Atom: OD1 from 6acg (index 25008)>, 3.6372662)\n(<Atom: OH from 6acg (index 19875)>, <Atom: OD2 from 6acg (index 25009)>, 2.7232525)\n(<Atom: CE2 from 6acg (index 19873)>, <Atom: OD2 from 6acg (index 25009)>, 3.7594812)\n(<Atom: CZ from 6acg (index 19874)>, <Atom: OD2 from 6acg (index 25009)>, 3.317109)\n(<Atom: CE2 from 6acg (index 20282)>, <Atom: CD2 from 6acg (index 25036)>, 3.9061766)\n(<Atom: CE2 from 6acg (index 20282)>, <Atom: CE2 from 6acg (index 25038)>, 3.7464526)\n(<Atom: CD2 from 6acg (index 20280)>, <Atom: CE2 from 6acg (index 25038)>, 3.3935754)\n(<Atom: OG1 from 6acg (index 20297)>, <Atom: OH from 6acg (index 25040)>, 3.3897836)\n(<Atom: N from 6acg (index 20299)>, <Atom: OH from 6acg (index 25040)>, 3.892594)\n(<Atom: O from 6acg (index 20295)>, <Atom: OH from 6acg (index 25040)>, 3.4960775)\n(<Atom: C from 6acg (index 20294)>, <Atom: OH from 6acg (index 25040)>, 3.7279687)\n(<Atom: OH from 6acg (index 20284)>, <Atom: CG from 6acg (index 25046)>, 3.2419684)\n(<Atom: OH from 6acg (index 20284)>, <Atom: CD from 6acg (index 25047)>, 3.5872095)\n(<Atom: OH from 6acg (index 19875)>, <Atom: CD from 6acg (index 25047)>, 3.7899277)\n(<Atom: OH from 6acg (index 20284)>, <Atom: NE2 from 6acg (index 25049)>, 2.9899137)\n(<Atom: OH from 6acg (index 19875)>, <Atom: NE2 from 6acg (index 25049)>, 2.7715838)\n(<Atom: CE2 from 6acg (index 19873)>, <Atom: NE2 from 6acg (index 25049)>, 3.530894)\n(<Atom: CZ from 6acg (index 19874)>, <Atom: NE2 from 6acg (index 25049)>, 3.5923147)\n(<Atom: CE2 from 6acg (index 20282)>, <Atom: CD1 from 6acg (index 25068)>, 3.584999)\n(<Atom: CD2 from 6acg (index 20280)>, <Atom: CD1 from 6acg (index 25068)>, 3.778965)\n(<Atom: CD2 from 6acg (index 20174)>, <Atom: CD1 from 6acg (index 25343)>, 3.7983763)\n(<Atom: CD1 from 6acg (index 20173)>, <Atom: SD from 6acg (index 25365)>, 3.674878)\n(<Atom: CD1 from 6acg (index 20173)>, <Atom: CE from 6acg (index 25366)>, 3.7784858)\n(<Atom: OD1 from 6acg (index 20181)>, <Atom: CE1 from 6acg (index 25375)>, 3.9737973)\n(<Atom: ND2 from 6acg (index 20182)>, <Atom: CZ from 6acg (index 25377)>, 3.7079482)\n(<Atom: OD1 from 6acg (index 20181)>, <Atom: OH from 6acg (index 25378)>, 3.344643)\n(<Atom: CG from 6acg (index 20180)>, <Atom: OH from 6acg (index 25378)>, 3.259157)\n(<Atom: ND2 from 6acg (index 20182)>, <Atom: OH from 6acg (index 25378)>, 2.3962505)\n(<Atom: OH from 6acg (index 20200)>, <Atom: OH from 6acg (index 25378)>, 3.8791215)\n(<Atom: CA from 6acg (index 20307)>, <Atom: CB from 6acg (index 27348)>, 3.5991073)\n(<Atom: C from 6acg (index 20308)>, <Atom: CB from 6acg (index 27348)>, 3.600105)\n(<Atom: N from 6acg (index 20310)>, <Atom: CB from 6acg (index 27348)>, 3.5052)\n(<Atom: CG1 from 6acg (index 20315)>, <Atom: CB from 6acg (index 27348)>, 3.6769123)\n(<Atom: CD1 from 6acg (index 20317)>, <Atom: CB from 6acg (index 27348)>, 3.8679576)\n(<Atom: O from 6acg (index 20309)>, <Atom: CD from 6acg (index 27350)>, 3.9955006)\n(<Atom: NH1 from 6acg (index 19801)>, <Atom: CD from 6acg (index 27350)>, 3.2016017)\n(<Atom: CA from 6acg (index 20307)>, <Atom: OE1 from 6acg (index 27351)>, 3.8894694)\n(<Atom: C from 6acg (index 20308)>, <Atom: OE1 from 6acg (index 27351)>, 3.2354665)\n(<Atom: N from 6acg (index 20310)>, <Atom: OE1 from 6acg (index 27351)>, 3.6547256)\n(<Atom: CD1 from 6acg (index 20317)>, <Atom: OE1 from 6acg (index 27351)>, 3.3580909)\n(<Atom: O from 6acg (index 20309)>, <Atom: OE1 from 6acg (index 27351)>, 2.971167)\n(<Atom: NH1 from 6acg (index 19801)>, <Atom: OE1 from 6acg (index 27351)>, 2.6890805)\n(<Atom: NE2 from 6acg (index 20342)>, <Atom: OE1 from 6acg (index 27351)>, 3.2850032)\n(<Atom: CZ from 6acg (index 19800)>, <Atom: OE1 from 6acg (index 27351)>, 3.8803694)\n(<Atom: NH1 from 6acg (index 19801)>, <Atom: NE2 from 6acg (index 27352)>, 3.0226746)\n(<Atom: CZ from 6acg (index 19800)>, <Atom: NE2 from 6acg (index 27352)>, 3.6299624)\n(<Atom: NH2 from 6acg (index 19802)>, <Atom: NE2 from 6acg (index 27352)>, 3.9745324)\n(<Atom: CA from 6acg (index 20307)>, <Atom: N from 6acg (index 27353)>, 3.4989057)\n(<Atom: CB from 6acg (index 20296)>, <Atom: ND2 from 6acg (index 27398)>, 3.6401496)\n(<Atom: O from 6acg (index 20295)>, <Atom: ND2 from 6acg (index 27398)>, 3.2239778)\n(<Atom: CA from 6acg (index 20293)>, <Atom: ND2 from 6acg (index 27398)>, 3.458649)\n(<Atom: C from 6acg (index 20294)>, <Atom: ND2 from 6acg (index 27398)>, 3.7530017)\n(<Atom: CG2 from 6acg (index 20298)>, <Atom: ND2 from 6acg (index 27398)>, 3.966164)\n(<Atom: CE2 from 6acg (index 20331)>, <Atom: CA from 6acg (index 27562)>, 3.842575)\n(<Atom: CD2 from 6acg (index 20329)>, <Atom: CA from 6acg (index 27562)>, 3.9315243)\n(<Atom: CE2 from 6acg (index 20331)>, <Atom: CB from 6acg (index 27565)>, 3.8298776)\n(<Atom: CD2 from 6acg (index 20329)>, <Atom: CB from 6acg (index 27565)>, 3.6065445)\n(<Atom: CE2 from 6acg (index 20331)>, <Atom: CG from 6acg (index 27566)>, 3.51248)\n(<Atom: CD2 from 6acg (index 20329)>, <Atom: CG from 6acg (index 27566)>, 3.570397)\n(<Atom: CD2 from 6acg (index 20329)>, <Atom: CD from 6acg (index 27567)>, 3.7465322)\n(<Atom: O from 6acg (index 20261)>, <Atom: CD from 6acg (index 27567)>, 3.5915787)\n(<Atom: O from 6acg (index 20261)>, <Atom: CE from 6acg (index 27568)>, 3.5937486)\n(<Atom: O from 6acg (index 20261)>, <Atom: NZ from 6acg (index 27569)>, 2.9950843)\n(<Atom: C from 6acg (index 20260)>, <Atom: NZ from 6acg (index 27569)>, 3.5343747)\n(<Atom: CA from 6acg (index 20259)>, <Atom: NZ from 6acg (index 27569)>, 3.4077718)\n(<Atom: O from 6acg (index 20295)>, <Atom: OD2 from 6acg (index 27581)>, 3.6234775)\n"
    }
   ],
   "source": [
    "for pair in interactions:\n",
    "    print(pair)"
   ]
  },
  {
   "cell_type": "code",
   "execution_count": 25,
   "metadata": {},
   "outputs": [
    {
     "output_type": "stream",
     "name": "stdout",
     "text": "['altloc', 'beta', 'chain', 'chindex', 'element', 'icode', 'mass', 'name', 'occupancy', 'resindex', 'resname', 'resnum', 'segindex', 'segment', 'serial']\n"
    }
   ],
   "source": [
    "interaction_residue_pairs = {}\n",
    "for pair in interactions[:1]:\n",
    "    a, b, c = pair\n",
    "    print(a.getDataLabels())"
   ]
  },
  {
   "cell_type": "code",
   "execution_count": 64,
   "metadata": {},
   "outputs": [],
   "source": [
    "interaction_residue_pairs = []\n",
    "for pair in interactions:\n",
    "    a, b, distance = pair\n",
    "\n",
    "    spike_atom = {}\n",
    "\n",
    "    spike_atom[\"chain\"]   = a.getData('chain')\n",
    "    spike_atom[\"resname\"] = a.getData('resname')\n",
    "    spike_atom[\"resnum\"]  = int(a.getData('resnum'))\n",
    "    spike_atom[\"element\"] = a.getData('element')\n",
    "\n",
    "    spike_atom[\"label\"] = spike_atom[\"chain\"] + \" \" + spike_atom[\"resname\"] + \" \" + str(spike_atom[\"resnum\"]) + \" \" + spike_atom[\"element\"]\n",
    "\n",
    "    # print(spike_atom[\"label\"], end=\", \")\n",
    "    \n",
    "    ace2_atom = {}\n",
    "\n",
    "    ace2_atom[\"chain\"]   = b.getData('chain')\n",
    "    ace2_atom[\"resname\"] = b.getData('resname')\n",
    "    ace2_atom[\"resnum\"]  = int(b.getData('resnum'))\n",
    "    ace2_atom[\"element\"] = b.getData('element')\n",
    "\n",
    "    ace2_atom[\"label\"] = ace2_atom[\"chain\"] + \" \" + ace2_atom[\"resname\"] + \" \" + str(ace2_atom[\"resnum\"]) + \" \" + ace2_atom[\"element\"]\n",
    "\n",
    "    # print(ace2_atom[\"label\"])\n",
    "\n",
    "    interaction_residue_pairs.append((spike_atom, ace2_atom))\n",
    "    \n",
    "    "
   ]
  },
  {
   "cell_type": "code",
   "execution_count": 65,
   "metadata": {},
   "outputs": [
    {
     "output_type": "stream",
     "name": "stdout",
     "text": "[({'chain': 'C', 'resname': 'ASN', 'resnum': 473, 'element': 'N', 'label': 'C ASN 473 N'}, {'chain': 'D', 'resname': 'GLN', 'resnum': 24, 'element': 'C', 'label': 'D GLN 24 C'}), ({'chain': 'C', 'resname': 'ASN', 'resnum': 473, 'element': 'N', 'label': 'C ASN 473 N'}, {'chain': 'D', 'resname': 'GLN', 'resnum': 24, 'element': 'O', 'label': 'D GLN 24 O'}), ({'chain': 'C', 'resname': 'ASN', 'resnum': 473, 'element': 'C', 'label': 'C ASN 473 C'}, {'chain': 'D', 'resname': 'GLN', 'resnum': 24, 'element': 'C', 'label': 'D GLN 24 C'}), ({'chain': 'C', 'resname': 'ASN', 'resnum': 473, 'element': 'C', 'label': 'C ASN 473 C'}, {'chain': 'D', 'resname': 'GLN', 'resnum': 24, 'element': 'C', 'label': 'D GLN 24 C'}), ({'chain': 'C', 'resname': 'ASN', 'resnum': 473, 'element': 'N', 'label': 'C ASN 473 N'}, {'chain': 'D', 'resname': 'GLN', 'resnum': 24, 'element': 'C', 'label': 'D GLN 24 C'}), ({'chain': 'C', 'resname': 'ASN', 'resnum': 473, 'element': 'O', 'label': 'C ASN 473 O'}, {'chain': 'D', 'resname': 'GLN', 'resnum': 24, 'element': 'C', 'label': 'D GLN 24 C'}), ({'chain': 'C', 'resname': 'ASN', 'resnum': 473, 'element': 'C', 'label': 'C ASN 473 C'}, {'chain': 'D', 'resname': 'GLN', 'resnum': 24, 'element': 'C', 'label': 'D GLN 24 C'}), ({'chain': 'C', 'resname': 'ASN', 'resnum': 473, 'element': 'N', 'label': 'C ASN 473 N'}, {'chain': 'D', 'resname': 'GLN', 'resnum': 24, 'element': 'C', 'label': 'D GLN 24 C'}), ({'chain': 'C', 'resname': 'ASN', 'resnum': 473, 'element': 'O', 'label': 'C ASN 473 O'}, {'chain': 'D', 'resname': 'GLN', 'resnum': 24, 'element': 'C', 'label': 'D GLN 24 C'}), ({'chain': 'C', 'resname': 'ASN', 'resnum': 473, 'element': 'C', 'label': 'C ASN 473 C'}, {'chain': 'D', 'resname': 'GLN', 'resnum': 24, 'element': 'C', 'label': 'D GLN 24 C'}), ({'chain': 'C', 'resname': 'ASN', 'resnum': 473, 'element': 'C', 'label': 'C ASN 473 C'}, {'chain': 'D', 'resname': 'GLN', 'resnum': 24, 'element': 'C', 'label': 'D GLN 24 C'}), ({'chain': 'C', 'resname': 'ASN', 'resnum': 473, 'element': 'O', 'label': 'C ASN 473 O'}, {'chain': 'D', 'resname': 'GLN', 'resnum': 24, 'element': 'O', 'label': 'D GLN 24 O'}), ({'chain': 'C', 'resname': 'ASN', 'resnum': 473, 'element': 'C', 'label': 'C ASN 473 C'}, {'chain': 'D', 'resname': 'GLN', 'resnum': 24, 'element': 'O', 'label': 'D GLN 24 O'}), ({'chain': 'C', 'resname': 'ASN', 'resnum': 473, 'element': 'C', 'label': 'C ASN 473 C'}, {'chain': 'D', 'resname': 'GLN', 'resnum': 24, 'element': 'O', 'label': 'D GLN 24 O'}), ({'chain': 'C', 'resname': 'ASN', 'resnum': 473, 'element': 'O', 'label': 'C ASN 473 O'}, {'chain': 'D', 'resname': 'GLN', 'resnum': 24, 'element': 'N', 'label': 'D GLN 24 N'}), ({'chain': 'C', 'resname': 'TYR', 'resnum': 475, 'element': 'C', 'label': 'C TYR 475 C'}, {'chain': 'D', 'resname': 'THR', 'resnum': 27, 'element': 'C', 'label': 'D THR 27 C'}), ({'chain': 'C', 'resname': 'TYR', 'resnum': 475, 'element': 'C', 'label': 'C TYR 475 C'}, {'chain': 'D', 'resname': 'THR', 'resnum': 27, 'element': 'C', 'label': 'D THR 27 C'}), ({'chain': 'C', 'resname': 'LEU', 'resnum': 443, 'element': 'C', 'label': 'C LEU 443 C'}, {'chain': 'D', 'resname': 'THR', 'resnum': 27, 'element': 'C', 'label': 'D THR 27 C'}), ({'chain': 'C', 'resname': 'TYR', 'resnum': 475, 'element': 'O', 'label': 'C TYR 475 O'}, {'chain': 'D', 'resname': 'PHE', 'resnum': 28, 'element': 'C', 'label': 'D PHE 28 C'}), ({'chain': 'C', 'resname': 'TYR', 'resnum': 475, 'element': 'C', 'label': 'C TYR 475 C'}, {'chain': 'D', 'resname': 'PHE', 'resnum': 28, 'element': 'C', 'label': 'D PHE 28 C'}), ({'chain': 'C', 'resname': 'TYR', 'resnum': 475, 'element': 'O', 'label': 'C TYR 475 O'}, {'chain': 'D', 'resname': 'PHE', 'resnum': 28, 'element': 'C', 'label': 'D PHE 28 C'}), ({'chain': 'C', 'resname': 'TYR', 'resnum': 475, 'element': 'O', 'label': 'C TYR 475 O'}, {'chain': 'D', 'resname': 'PHE', 'resnum': 28, 'element': 'C', 'label': 'D PHE 28 C'}), ({'chain': 'C', 'resname': 'TYR', 'resnum': 475, 'element': 'O', 'label': 'C TYR 475 O'}, {'chain': 'D', 'resname': 'PHE', 'resnum': 28, 'element': 'C', 'label': 'D PHE 28 C'}), ({'chain': 'C', 'resname': 'TYR', 'resnum': 442, 'element': 'C', 'label': 'C TYR 442 C'}, {'chain': 'D', 'resname': 'ASP', 'resnum': 30, 'element': 'C', 'label': 'D ASP 30 C'}), ({'chain': 'C', 'resname': 'TYR', 'resnum': 442, 'element': 'C', 'label': 'C TYR 442 C'}, {'chain': 'D', 'resname': 'ASP', 'resnum': 30, 'element': 'C', 'label': 'D ASP 30 C'}), ({'chain': 'C', 'resname': 'TYR', 'resnum': 442, 'element': 'C', 'label': 'C TYR 442 C'}, {'chain': 'D', 'resname': 'LYS', 'resnum': 31, 'element': 'N', 'label': 'D LYS 31 N'}), ({'chain': 'C', 'resname': 'TYR', 'resnum': 442, 'element': 'O', 'label': 'C TYR 442 O'}, {'chain': 'D', 'resname': 'LYS', 'resnum': 31, 'element': 'N', 'label': 'D LYS 31 N'}), ({'chain': 'C', 'resname': 'TYR', 'resnum': 442, 'element': 'O', 'label': 'C TYR 442 O'}, {'chain': 'D', 'resname': 'LYS', 'resnum': 31, 'element': 'C', 'label': 'D LYS 31 C'}), ({'chain': 'C', 'resname': 'TYR', 'resnum': 442, 'element': 'O', 'label': 'C TYR 442 O'}, {'chain': 'D', 'resname': 'LYS', 'resnum': 31, 'element': 'C', 'label': 'D LYS 31 C'}), ({'chain': 'C', 'resname': 'TYR', 'resnum': 442, 'element': 'O', 'label': 'C TYR 442 O'}, {'chain': 'D', 'resname': 'LYS', 'resnum': 31, 'element': 'C', 'label': 'D LYS 31 C'}), ({'chain': 'C', 'resname': 'TYR', 'resnum': 475, 'element': 'C', 'label': 'C TYR 475 C'}, {'chain': 'D', 'resname': 'LYS', 'resnum': 31, 'element': 'N', 'label': 'D LYS 31 N'}), ({'chain': 'C', 'resname': 'TYR', 'resnum': 475, 'element': 'C', 'label': 'C TYR 475 C'}, {'chain': 'D', 'resname': 'LYS', 'resnum': 31, 'element': 'N', 'label': 'D LYS 31 N'}), ({'chain': 'C', 'resname': 'TYR', 'resnum': 440, 'element': 'O', 'label': 'C TYR 440 O'}, {'chain': 'D', 'resname': 'HIS', 'resnum': 34, 'element': 'C', 'label': 'D HIS 34 C'}), ({'chain': 'C', 'resname': 'TYR', 'resnum': 440, 'element': 'O', 'label': 'C TYR 440 O'}, {'chain': 'D', 'resname': 'HIS', 'resnum': 34, 'element': 'C', 'label': 'D HIS 34 C'}), ({'chain': 'C', 'resname': 'TYR', 'resnum': 440, 'element': 'O', 'label': 'C TYR 440 O'}, {'chain': 'D', 'resname': 'HIS', 'resnum': 34, 'element': 'N', 'label': 'D HIS 34 N'}), ({'chain': 'C', 'resname': 'TYR', 'resnum': 440, 'element': 'O', 'label': 'C TYR 440 O'}, {'chain': 'D', 'resname': 'HIS', 'resnum': 34, 'element': 'C', 'label': 'D HIS 34 C'}), ({'chain': 'C', 'resname': 'TYR', 'resnum': 440, 'element': 'O', 'label': 'C TYR 440 O'}, {'chain': 'D', 'resname': 'HIS', 'resnum': 34, 'element': 'C', 'label': 'D HIS 34 C'}), ({'chain': 'C', 'resname': 'TYR', 'resnum': 440, 'element': 'O', 'label': 'C TYR 440 O'}, {'chain': 'D', 'resname': 'HIS', 'resnum': 34, 'element': 'N', 'label': 'D HIS 34 N'}), ({'chain': 'C', 'resname': 'TYR', 'resnum': 436, 'element': 'O', 'label': 'C TYR 436 O'}, {'chain': 'D', 'resname': 'ASP', 'resnum': 38, 'element': 'C', 'label': 'D ASP 38 C'}), ({'chain': 'C', 'resname': 'TYR', 'resnum': 436, 'element': 'C', 'label': 'C TYR 436 C'}, {'chain': 'D', 'resname': 'ASP', 'resnum': 38, 'element': 'C', 'label': 'D ASP 38 C'}), ({'chain': 'C', 'resname': 'TYR', 'resnum': 436, 'element': 'O', 'label': 'C TYR 436 O'}, {'chain': 'D', 'resname': 'ASP', 'resnum': 38, 'element': 'O', 'label': 'D ASP 38 O'}), ({'chain': 'C', 'resname': 'GLY', 'resnum': 482, 'element': 'C', 'label': 'C GLY 482 C'}, {'chain': 'D', 'resname': 'ASP', 'resnum': 38, 'element': 'O', 'label': 'D ASP 38 O'}), ({'chain': 'C', 'resname': 'TYR', 'resnum': 436, 'element': 'C', 'label': 'C TYR 436 C'}, {'chain': 'D', 'resname': 'ASP', 'resnum': 38, 'element': 'O', 'label': 'D ASP 38 O'}), ({'chain': 'C', 'resname': 'TYR', 'resnum': 436, 'element': 'C', 'label': 'C TYR 436 C'}, {'chain': 'D', 'resname': 'ASP', 'resnum': 38, 'element': 'O', 'label': 'D ASP 38 O'}), ({'chain': 'C', 'resname': 'TYR', 'resnum': 436, 'element': 'O', 'label': 'C TYR 436 O'}, {'chain': 'D', 'resname': 'ASP', 'resnum': 38, 'element': 'O', 'label': 'D ASP 38 O'}), ({'chain': 'C', 'resname': 'TYR', 'resnum': 436, 'element': 'C', 'label': 'C TYR 436 C'}, {'chain': 'D', 'resname': 'ASP', 'resnum': 38, 'element': 'O', 'label': 'D ASP 38 O'}), ({'chain': 'C', 'resname': 'TYR', 'resnum': 436, 'element': 'C', 'label': 'C TYR 436 C'}, {'chain': 'D', 'resname': 'ASP', 'resnum': 38, 'element': 'O', 'label': 'D ASP 38 O'}), ({'chain': 'C', 'resname': 'TYR', 'resnum': 484, 'element': 'C', 'label': 'C TYR 484 C'}, {'chain': 'D', 'resname': 'TYR', 'resnum': 41, 'element': 'C', 'label': 'D TYR 41 C'}), ({'chain': 'C', 'resname': 'TYR', 'resnum': 484, 'element': 'C', 'label': 'C TYR 484 C'}, {'chain': 'D', 'resname': 'TYR', 'resnum': 41, 'element': 'C', 'label': 'D TYR 41 C'}), ({'chain': 'C', 'resname': 'TYR', 'resnum': 484, 'element': 'C', 'label': 'C TYR 484 C'}, {'chain': 'D', 'resname': 'TYR', 'resnum': 41, 'element': 'C', 'label': 'D TYR 41 C'}), ({'chain': 'C', 'resname': 'THR', 'resnum': 486, 'element': 'O', 'label': 'C THR 486 O'}, {'chain': 'D', 'resname': 'TYR', 'resnum': 41, 'element': 'O', 'label': 'D TYR 41 O'}), ({'chain': 'C', 'resname': 'THR', 'resnum': 487, 'element': 'N', 'label': 'C THR 487 N'}, {'chain': 'D', 'resname': 'TYR', 'resnum': 41, 'element': 'O', 'label': 'D TYR 41 O'}), ({'chain': 'C', 'resname': 'THR', 'resnum': 486, 'element': 'O', 'label': 'C THR 486 O'}, {'chain': 'D', 'resname': 'TYR', 'resnum': 41, 'element': 'O', 'label': 'D TYR 41 O'}), ({'chain': 'C', 'resname': 'THR', 'resnum': 486, 'element': 'C', 'label': 'C THR 486 C'}, {'chain': 'D', 'resname': 'TYR', 'resnum': 41, 'element': 'O', 'label': 'D TYR 41 O'}), ({'chain': 'C', 'resname': 'TYR', 'resnum': 484, 'element': 'O', 'label': 'C TYR 484 O'}, {'chain': 'D', 'resname': 'GLN', 'resnum': 42, 'element': 'C', 'label': 'D GLN 42 C'}), ({'chain': 'C', 'resname': 'TYR', 'resnum': 484, 'element': 'O', 'label': 'C TYR 484 O'}, {'chain': 'D', 'resname': 'GLN', 'resnum': 42, 'element': 'C', 'label': 'D GLN 42 C'}), ({'chain': 'C', 'resname': 'TYR', 'resnum': 436, 'element': 'O', 'label': 'C TYR 436 O'}, {'chain': 'D', 'resname': 'GLN', 'resnum': 42, 'element': 'C', 'label': 'D GLN 42 C'}), ({'chain': 'C', 'resname': 'TYR', 'resnum': 484, 'element': 'O', 'label': 'C TYR 484 O'}, {'chain': 'D', 'resname': 'GLN', 'resnum': 42, 'element': 'N', 'label': 'D GLN 42 N'}), ({'chain': 'C', 'resname': 'TYR', 'resnum': 436, 'element': 'O', 'label': 'C TYR 436 O'}, {'chain': 'D', 'resname': 'GLN', 'resnum': 42, 'element': 'N', 'label': 'D GLN 42 N'}), ({'chain': 'C', 'resname': 'TYR', 'resnum': 436, 'element': 'C', 'label': 'C TYR 436 C'}, {'chain': 'D', 'resname': 'GLN', 'resnum': 42, 'element': 'N', 'label': 'D GLN 42 N'}), ({'chain': 'C', 'resname': 'TYR', 'resnum': 436, 'element': 'C', 'label': 'C TYR 436 C'}, {'chain': 'D', 'resname': 'GLN', 'resnum': 42, 'element': 'N', 'label': 'D GLN 42 N'}), ({'chain': 'C', 'resname': 'TYR', 'resnum': 484, 'element': 'C', 'label': 'C TYR 484 C'}, {'chain': 'D', 'resname': 'LEU', 'resnum': 45, 'element': 'C', 'label': 'D LEU 45 C'}), ({'chain': 'C', 'resname': 'TYR', 'resnum': 484, 'element': 'C', 'label': 'C TYR 484 C'}, {'chain': 'D', 'resname': 'LEU', 'resnum': 45, 'element': 'C', 'label': 'D LEU 45 C'}), ({'chain': 'C', 'resname': 'LEU', 'resnum': 472, 'element': 'C', 'label': 'C LEU 472 C'}, {'chain': 'D', 'resname': 'LEU', 'resnum': 79, 'element': 'C', 'label': 'D LEU 79 C'}), ({'chain': 'C', 'resname': 'LEU', 'resnum': 472, 'element': 'C', 'label': 'C LEU 472 C'}, {'chain': 'D', 'resname': 'MET', 'resnum': 82, 'element': 'S', 'label': 'D MET 82 S'}), ({'chain': 'C', 'resname': 'LEU', 'resnum': 472, 'element': 'C', 'label': 'C LEU 472 C'}, {'chain': 'D', 'resname': 'MET', 'resnum': 82, 'element': 'C', 'label': 'D MET 82 C'}), ({'chain': 'C', 'resname': 'ASN', 'resnum': 473, 'element': 'O', 'label': 'C ASN 473 O'}, {'chain': 'D', 'resname': 'TYR', 'resnum': 83, 'element': 'C', 'label': 'D TYR 83 C'}), ({'chain': 'C', 'resname': 'ASN', 'resnum': 473, 'element': 'N', 'label': 'C ASN 473 N'}, {'chain': 'D', 'resname': 'TYR', 'resnum': 83, 'element': 'C', 'label': 'D TYR 83 C'}), ({'chain': 'C', 'resname': 'ASN', 'resnum': 473, 'element': 'O', 'label': 'C ASN 473 O'}, {'chain': 'D', 'resname': 'TYR', 'resnum': 83, 'element': 'O', 'label': 'D TYR 83 O'}), ({'chain': 'C', 'resname': 'ASN', 'resnum': 473, 'element': 'C', 'label': 'C ASN 473 C'}, {'chain': 'D', 'resname': 'TYR', 'resnum': 83, 'element': 'O', 'label': 'D TYR 83 O'}), ({'chain': 'C', 'resname': 'ASN', 'resnum': 473, 'element': 'N', 'label': 'C ASN 473 N'}, {'chain': 'D', 'resname': 'TYR', 'resnum': 83, 'element': 'O', 'label': 'D TYR 83 O'}), ({'chain': 'C', 'resname': 'TYR', 'resnum': 475, 'element': 'O', 'label': 'C TYR 475 O'}, {'chain': 'D', 'resname': 'TYR', 'resnum': 83, 'element': 'O', 'label': 'D TYR 83 O'}), ({'chain': 'C', 'resname': 'GLY', 'resnum': 488, 'element': 'C', 'label': 'C GLY 488 C'}, {'chain': 'D', 'resname': 'GLN', 'resnum': 325, 'element': 'C', 'label': 'D GLN 325 C'}), ({'chain': 'C', 'resname': 'GLY', 'resnum': 488, 'element': 'C', 'label': 'C GLY 488 C'}, {'chain': 'D', 'resname': 'GLN', 'resnum': 325, 'element': 'C', 'label': 'D GLN 325 C'}), ({'chain': 'C', 'resname': 'ILE', 'resnum': 489, 'element': 'N', 'label': 'C ILE 489 N'}, {'chain': 'D', 'resname': 'GLN', 'resnum': 325, 'element': 'C', 'label': 'D GLN 325 C'}), ({'chain': 'C', 'resname': 'ILE', 'resnum': 489, 'element': 'C', 'label': 'C ILE 489 C'}, {'chain': 'D', 'resname': 'GLN', 'resnum': 325, 'element': 'C', 'label': 'D GLN 325 C'}), ({'chain': 'C', 'resname': 'ILE', 'resnum': 489, 'element': 'C', 'label': 'C ILE 489 C'}, {'chain': 'D', 'resname': 'GLN', 'resnum': 325, 'element': 'C', 'label': 'D GLN 325 C'}), ({'chain': 'C', 'resname': 'GLY', 'resnum': 488, 'element': 'O', 'label': 'C GLY 488 O'}, {'chain': 'D', 'resname': 'GLN', 'resnum': 325, 'element': 'C', 'label': 'D GLN 325 C'}), ({'chain': 'C', 'resname': 'ARG', 'resnum': 426, 'element': 'N', 'label': 'C ARG 426 N'}, {'chain': 'D', 'resname': 'GLN', 'resnum': 325, 'element': 'C', 'label': 'D GLN 325 C'}), ({'chain': 'C', 'resname': 'GLY', 'resnum': 488, 'element': 'C', 'label': 'C GLY 488 C'}, {'chain': 'D', 'resname': 'GLN', 'resnum': 325, 'element': 'O', 'label': 'D GLN 325 O'}), ({'chain': 'C', 'resname': 'GLY', 'resnum': 488, 'element': 'C', 'label': 'C GLY 488 C'}, {'chain': 'D', 'resname': 'GLN', 'resnum': 325, 'element': 'O', 'label': 'D GLN 325 O'}), ({'chain': 'C', 'resname': 'ILE', 'resnum': 489, 'element': 'N', 'label': 'C ILE 489 N'}, {'chain': 'D', 'resname': 'GLN', 'resnum': 325, 'element': 'O', 'label': 'D GLN 325 O'}), ({'chain': 'C', 'resname': 'ILE', 'resnum': 489, 'element': 'C', 'label': 'C ILE 489 C'}, {'chain': 'D', 'resname': 'GLN', 'resnum': 325, 'element': 'O', 'label': 'D GLN 325 O'}), ({'chain': 'C', 'resname': 'GLY', 'resnum': 488, 'element': 'O', 'label': 'C GLY 488 O'}, {'chain': 'D', 'resname': 'GLN', 'resnum': 325, 'element': 'O', 'label': 'D GLN 325 O'}), ({'chain': 'C', 'resname': 'ARG', 'resnum': 426, 'element': 'N', 'label': 'C ARG 426 N'}, {'chain': 'D', 'resname': 'GLN', 'resnum': 325, 'element': 'O', 'label': 'D GLN 325 O'}), ({'chain': 'C', 'resname': 'GLN', 'resnum': 492, 'element': 'N', 'label': 'C GLN 492 N'}, {'chain': 'D', 'resname': 'GLN', 'resnum': 325, 'element': 'O', 'label': 'D GLN 325 O'}), ({'chain': 'C', 'resname': 'ARG', 'resnum': 426, 'element': 'C', 'label': 'C ARG 426 C'}, {'chain': 'D', 'resname': 'GLN', 'resnum': 325, 'element': 'O', 'label': 'D GLN 325 O'}), ({'chain': 'C', 'resname': 'ARG', 'resnum': 426, 'element': 'N', 'label': 'C ARG 426 N'}, {'chain': 'D', 'resname': 'GLN', 'resnum': 325, 'element': 'N', 'label': 'D GLN 325 N'}), ({'chain': 'C', 'resname': 'ARG', 'resnum': 426, 'element': 'C', 'label': 'C ARG 426 C'}, {'chain': 'D', 'resname': 'GLN', 'resnum': 325, 'element': 'N', 'label': 'D GLN 325 N'}), ({'chain': 'C', 'resname': 'ARG', 'resnum': 426, 'element': 'N', 'label': 'C ARG 426 N'}, {'chain': 'D', 'resname': 'GLN', 'resnum': 325, 'element': 'N', 'label': 'D GLN 325 N'}), ({'chain': 'C', 'resname': 'GLY', 'resnum': 488, 'element': 'C', 'label': 'C GLY 488 C'}, {'chain': 'D', 'resname': 'GLY', 'resnum': 326, 'element': 'N', 'label': 'D GLY 326 N'}), ({'chain': 'C', 'resname': 'THR', 'resnum': 486, 'element': 'C', 'label': 'C THR 486 C'}, {'chain': 'D', 'resname': 'ASN', 'resnum': 330, 'element': 'N', 'label': 'D ASN 330 N'}), ({'chain': 'C', 'resname': 'THR', 'resnum': 486, 'element': 'O', 'label': 'C THR 486 O'}, {'chain': 'D', 'resname': 'ASN', 'resnum': 330, 'element': 'N', 'label': 'D ASN 330 N'}), ({'chain': 'C', 'resname': 'THR', 'resnum': 486, 'element': 'C', 'label': 'C THR 486 C'}, {'chain': 'D', 'resname': 'ASN', 'resnum': 330, 'element': 'N', 'label': 'D ASN 330 N'}), ({'chain': 'C', 'resname': 'THR', 'resnum': 486, 'element': 'C', 'label': 'C THR 486 C'}, {'chain': 'D', 'resname': 'ASN', 'resnum': 330, 'element': 'N', 'label': 'D ASN 330 N'}), ({'chain': 'C', 'resname': 'THR', 'resnum': 486, 'element': 'C', 'label': 'C THR 486 C'}, {'chain': 'D', 'resname': 'ASN', 'resnum': 330, 'element': 'N', 'label': 'D ASN 330 N'}), ({'chain': 'C', 'resname': 'TYR', 'resnum': 491, 'element': 'C', 'label': 'C TYR 491 C'}, {'chain': 'D', 'resname': 'LYS', 'resnum': 353, 'element': 'C', 'label': 'D LYS 353 C'}), ({'chain': 'C', 'resname': 'TYR', 'resnum': 491, 'element': 'C', 'label': 'C TYR 491 C'}, {'chain': 'D', 'resname': 'LYS', 'resnum': 353, 'element': 'C', 'label': 'D LYS 353 C'}), ({'chain': 'C', 'resname': 'TYR', 'resnum': 491, 'element': 'C', 'label': 'C TYR 491 C'}, {'chain': 'D', 'resname': 'LYS', 'resnum': 353, 'element': 'C', 'label': 'D LYS 353 C'}), ({'chain': 'C', 'resname': 'TYR', 'resnum': 491, 'element': 'C', 'label': 'C TYR 491 C'}, {'chain': 'D', 'resname': 'LYS', 'resnum': 353, 'element': 'C', 'label': 'D LYS 353 C'}), ({'chain': 'C', 'resname': 'TYR', 'resnum': 491, 'element': 'C', 'label': 'C TYR 491 C'}, {'chain': 'D', 'resname': 'LYS', 'resnum': 353, 'element': 'C', 'label': 'D LYS 353 C'}), ({'chain': 'C', 'resname': 'TYR', 'resnum': 491, 'element': 'C', 'label': 'C TYR 491 C'}, {'chain': 'D', 'resname': 'LYS', 'resnum': 353, 'element': 'C', 'label': 'D LYS 353 C'}), ({'chain': 'C', 'resname': 'TYR', 'resnum': 491, 'element': 'C', 'label': 'C TYR 491 C'}, {'chain': 'D', 'resname': 'LYS', 'resnum': 353, 'element': 'C', 'label': 'D LYS 353 C'}), ({'chain': 'C', 'resname': 'GLY', 'resnum': 482, 'element': 'O', 'label': 'C GLY 482 O'}, {'chain': 'D', 'resname': 'LYS', 'resnum': 353, 'element': 'C', 'label': 'D LYS 353 C'}), ({'chain': 'C', 'resname': 'GLY', 'resnum': 482, 'element': 'O', 'label': 'C GLY 482 O'}, {'chain': 'D', 'resname': 'LYS', 'resnum': 353, 'element': 'C', 'label': 'D LYS 353 C'}), ({'chain': 'C', 'resname': 'GLY', 'resnum': 482, 'element': 'O', 'label': 'C GLY 482 O'}, {'chain': 'D', 'resname': 'LYS', 'resnum': 353, 'element': 'N', 'label': 'D LYS 353 N'}), ({'chain': 'C', 'resname': 'GLY', 'resnum': 482, 'element': 'C', 'label': 'C GLY 482 C'}, {'chain': 'D', 'resname': 'LYS', 'resnum': 353, 'element': 'N', 'label': 'D LYS 353 N'}), ({'chain': 'C', 'resname': 'GLY', 'resnum': 482, 'element': 'C', 'label': 'C GLY 482 C'}, {'chain': 'D', 'resname': 'LYS', 'resnum': 353, 'element': 'N', 'label': 'D LYS 353 N'}), ({'chain': 'C', 'resname': 'THR', 'resnum': 486, 'element': 'O', 'label': 'C THR 486 O'}, {'chain': 'D', 'resname': 'ASP', 'resnum': 355, 'element': 'O', 'label': 'D ASP 355 O'})]\n"
    }
   ],
   "source": [
    "print(interaction_residue_pairs)"
   ]
  },
  {
   "cell_type": "code",
   "execution_count": 66,
   "metadata": {},
   "outputs": [],
   "source": [
    "import json"
   ]
  },
  {
   "cell_type": "code",
   "execution_count": 70,
   "metadata": {},
   "outputs": [],
   "source": [
    "with open('interactions.json', 'w') as file:\n",
    "    json.dump(interaction_residue_pairs, file)"
   ]
  },
  {
   "cell_type": "code",
   "execution_count": 68,
   "metadata": {},
   "outputs": [
    {
     "output_type": "execute_result",
     "data": {
      "text/plain": "str"
     },
     "metadata": {},
     "execution_count": 68
    }
   ],
   "source": [
    "type(interaction_residue_pairs_json)"
   ]
  },
  {
   "cell_type": "code",
   "execution_count": null,
   "metadata": {},
   "outputs": [],
   "source": []
  }
 ],
 "metadata": {
  "kernelspec": {
   "display_name": "Python 3.7.7 64-bit ('skbio': conda)",
   "language": "python",
   "name": "python37764bitskbioconda6af81efcc625405c935733233d0931db"
  },
  "language_info": {
   "codemirror_mode": {
    "name": "ipython",
    "version": 3
   },
   "file_extension": ".py",
   "mimetype": "text/x-python",
   "name": "python",
   "nbconvert_exporter": "python",
   "pygments_lexer": "ipython3",
   "version": "3.7.7-final"
  }
 },
 "nbformat": 4,
 "nbformat_minor": 4
}