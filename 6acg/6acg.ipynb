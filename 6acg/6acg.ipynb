{
 "cells": [
  {
   "cell_type": "code",
   "execution_count": 1,
   "metadata": {},
   "outputs": [],
   "source": [
    "from prody import *\n",
    "from pylab import *\n",
    "import json"
   ]
  },
  {
   "cell_type": "code",
   "execution_count": 2,
   "metadata": {},
   "outputs": [
    {
     "output_type": "stream",
     "name": "stderr",
     "text": "@> PDB file is found in working directory (6acg.pdb).\n@> 29715 atoms and 1 coordinate set(s) were parsed in 0.45s.\n"
    }
   ],
   "source": [
    "pdb, header = parsePDB('6acg', header=True)"
   ]
  },
  {
   "cell_type": "code",
   "execution_count": 3,
   "metadata": {},
   "outputs": [],
   "source": [
    "# get contacts\n",
    "spike_contacts = pdb.select('chain A B C and within 5 of chain D')\n",
    "ace2_contacts = pdb.select('chain D and within 5 of chain A B C')\n",
    "\n",
    "# writePDB('spike_contacts.pdb', spike_contacts)\n",
    "# writePDB('ace2_contacts.pdb', ace2_contacts)"
   ]
  },
  {
   "cell_type": "code",
   "execution_count": 4,
   "metadata": {},
   "outputs": [],
   "source": [
    "spike = pdb.select('chain A B C')\n",
    "ace2  = pdb.select('chain D')"
   ]
  },
  {
   "cell_type": "code",
   "execution_count": 5,
   "metadata": {},
   "outputs": [],
   "source": [
    "interactions = findNeighbors(atoms=spike, radius=5, atoms2=ace2)"
   ]
  },
  {
   "cell_type": "code",
   "execution_count": 6,
   "metadata": {},
   "outputs": [],
   "source": [
    "spike_atoms = []\n",
    "ace2_atoms = []\n",
    "links = []"
   ]
  },
  {
   "cell_type": "code",
   "execution_count": 7,
   "metadata": {},
   "outputs": [],
   "source": [
    "# function to format atom data\n",
    "def getAtomData(atom):\n",
    "    data = {}\n",
    "\n",
    "    data[\"chain\"]   = atom.getData('chain')\n",
    "    data[\"resname\"] = atom.getData('resname')\n",
    "    data[\"resnum\"]  = int(atom.getData('resnum'))\n",
    "    data[\"atom\"] = atom.getData('name')\n",
    "    data[\"name\"]   = \" \".join([data[\"chain\"], data['resname'], str(data['resnum']), data['atom']])\n",
    "    data[\"id\"]   = atom.getIndex()\n",
    "\n",
    "    return data"
   ]
  },
  {
   "cell_type": "code",
   "execution_count": 8,
   "metadata": {},
   "outputs": [],
   "source": [
    "# store nodes and links \n",
    "for pair in interactions:\n",
    "    a, b, distance = pair\n",
    "\n",
    "    spike_atom = getAtomData(a)    \n",
    "    ace2_atom  = getAtomData(b)\n",
    "\n",
    "    spike_atoms.append(spike_atom)\n",
    "    ace2_atoms.append(ace2_atom)\n",
    "\n",
    "    links.append({\n",
    "        \"source\": spike_atom[\"id\"],\n",
    "        \"target\": ace2_atom[\"id\"]\n",
    "    })"
   ]
  },
  {
   "cell_type": "code",
   "execution_count": 9,
   "metadata": {},
   "outputs": [],
   "source": [
    "# remove duplicates in atom lists\n",
    "spike_atoms_uniq = list({v['id']:v for v in spike_atoms}.values())\n",
    "ace2_atoms_uniq  = list({v['id']:v for v in ace2_atoms}.values())"
   ]
  },
  {
   "cell_type": "code",
   "execution_count": 10,
   "metadata": {},
   "outputs": [],
   "source": [
    "interaction_json = {\n",
    "    \"nodes\": spike_atoms_uniq + ace2_atoms_uniq,\n",
    "    \"links\": links\n",
    "}"
   ]
  },
  {
   "cell_type": "code",
   "execution_count": 11,
   "metadata": {},
   "outputs": [],
   "source": [
    "# write to json\n",
    "with open('interactions.json', 'w') as file:\n",
    "    json.dump(interaction_json, file)"
   ]
  },
  {
   "cell_type": "code",
   "execution_count": 12,
   "metadata": {},
   "outputs": [
    {
     "output_type": "execute_result",
     "data": {
      "text/plain": "True"
     },
     "metadata": {},
     "execution_count": 12
    }
   ],
   "source": [
    "# Just for verification\n",
    "spike_contact_residues = sorted(spike_contacts.getData('resnum'))\n",
    "spike_contact_residues2 = sorted([atom['resnum'] for atom in spike_atoms_uniq])\n",
    "spike_contact_residues == spike_contact_residues2"
   ]
  }
 ],
 "metadata": {
  "kernelspec": {
   "display_name": "Python 3.7.5 64-bit",
   "language": "python",
   "name": "python37564bit46f60de5514a4b5480af032435df6bab"
  },
  "language_info": {
   "codemirror_mode": {
    "name": "ipython",
    "version": 3
   },
   "file_extension": ".py",
   "mimetype": "text/x-python",
   "name": "python",
   "nbconvert_exporter": "python",
   "pygments_lexer": "ipython3",
   "version": "3.7.5-final"
  }
 },
 "nbformat": 4,
 "nbformat_minor": 4
}