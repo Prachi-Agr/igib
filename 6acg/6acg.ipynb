{
 "cells": [
  {
   "cell_type": "code",
   "execution_count": 1,
   "metadata": {},
   "outputs": [],
   "source": [
    "from prody import *\n",
    "from pylab import *"
   ]
  },
  {
   "cell_type": "code",
   "execution_count": 2,
   "metadata": {},
   "outputs": [
    {
     "output_type": "stream",
     "name": "stderr",
     "text": "@> PDB file is found in working directory (6acg.pdb).\n@> 29715 atoms and 1 coordinate set(s) were parsed in 0.27s.\n"
    }
   ],
   "source": [
    "pdb, header = parsePDB('6acg', header=True)"
   ]
  },
  {
   "cell_type": "code",
   "execution_count": 3,
   "metadata": {},
   "outputs": [],
   "source": [
    "spike_contacts = pdb.select('chain A B C and within 4 of chain D')"
   ]
  },
  {
   "cell_type": "code",
   "execution_count": 4,
   "metadata": {},
   "outputs": [],
   "source": [
    "ace2_contacts = pdb.select('chain D and within 4 of chain A B C')"
   ]
  },
  {
   "cell_type": "code",
   "execution_count": 5,
   "metadata": {},
   "outputs": [],
   "source": [
    "# writePDB('spike_contacts.pdb', spike_contacts)\n",
    "# writePDB('ace2_contacts.pdb', ace2_contacts)"
   ]
  },
  {
   "cell_type": "code",
   "execution_count": 6,
   "metadata": {},
   "outputs": [],
   "source": [
    "spike = pdb.select('chain A B C')\n",
    "ace2  = pdb.select('chain D')"
   ]
  },
  {
   "cell_type": "code",
   "execution_count": 7,
   "metadata": {},
   "outputs": [],
   "source": [
    "interactions = findNeighbors(atoms=spike, radius=4, atoms2=ace2)"
   ]
  },
  {
   "cell_type": "code",
   "execution_count": 11,
   "metadata": {},
   "outputs": [],
   "source": [
    "spike_atoms = []\n",
    "ace2_atoms = []\n",
    "links = []"
   ]
  },
  {
   "cell_type": "code",
   "execution_count": 12,
   "metadata": {},
   "outputs": [],
   "source": [
    "def getAtomData(atom):\n",
    "    data = {}\n",
    "\n",
    "    data[\"chain\"]   = atom.getData('chain')\n",
    "    data[\"resname\"] = atom.getData('resname')\n",
    "    data[\"resnum\"]  = int(atom.getData('resnum'))\n",
    "    data[\"element\"] = atom.getData('element')\n",
    "    data[\"index\"]   = atom.getIndex()\n",
    "\n",
    "    return data"
   ]
  },
  {
   "cell_type": "code",
   "execution_count": 14,
   "metadata": {},
   "outputs": [],
   "source": [
    "for pair in interactions:\n",
    "    a, b, distance = pair\n",
    "\n",
    "    spike_atom = getAtomData(a)    \n",
    "    ace2_atom  = getAtomData(b)\n",
    "\n",
    "    spike_atoms.append(spike_atom)\n",
    "    ace2_atoms.append(ace2_atom)\n",
    "\n",
    "    links.append({\n",
    "        \"source\": spike_atom[\"index\"],\n",
    "        \"target\": ace2_atom[\"index\"]\n",
    "    })"
   ]
  },
  {
   "cell_type": "code",
   "execution_count": 19,
   "metadata": {},
   "outputs": [],
   "source": [
    "spike_atoms_uniq = list({v['index']:v for v in spike_atoms}.values())\n",
    "ace2_atoms_uniq  = list({v['index']:v for v in ace2_atoms}.values())"
   ]
  },
  {
   "cell_type": "code",
   "execution_count": 23,
   "metadata": {},
   "outputs": [],
   "source": [
    "interaction_json = {\n",
    "    \"nodes\": spike_atoms_uniq + ace2_atoms_uniq,\n",
    "    \"links\": links\n",
    "}"
   ]
  },
  {
   "cell_type": "code",
   "execution_count": null,
   "metadata": {},
   "outputs": [],
   "source": [
    "with open('interactions.json', 'w') as file:\n",
    "    json.dump(interaction_json, file"
   ]
  }
 ],
 "metadata": {
  "kernelspec": {
   "display_name": "Python 3.7.7 64-bit ('skbio': conda)",
   "language": "python",
   "name": "python37764bitskbioconda6af81efcc625405c935733233d0931db"
  },
  "language_info": {
   "codemirror_mode": {
    "name": "ipython",
    "version": 3
   },
   "file_extension": ".py",
   "mimetype": "text/x-python",
   "name": "python",
   "nbconvert_exporter": "python",
   "pygments_lexer": "ipython3",
   "version": "3.7.7-final"
  }
 },
 "nbformat": 4,
 "nbformat_minor": 4
}