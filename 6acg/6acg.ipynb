{
 "cells": [
  {
   "cell_type": "code",
   "execution_count": 1,
   "metadata": {},
   "outputs": [],
   "source": [
    "from prody import *\n",
    "from pylab import *\n",
    "import json"
   ]
  },
  {
   "cell_type": "code",
   "execution_count": 2,
   "metadata": {},
   "outputs": [
    {
     "output_type": "stream",
     "name": "stderr",
     "text": "@> PDB file is found in working directory (6acg.pdb).\n@> 29715 atoms and 1 coordinate set(s) were parsed in 0.30s.\n"
    }
   ],
   "source": [
    "pdb, header = parsePDB('6acg', header=True)"
   ]
  },
  {
   "cell_type": "code",
   "execution_count": 3,
   "metadata": {},
   "outputs": [],
   "source": [
    "# get contacts\n",
    "spike_contacts = pdb.select('chain A B C and within 5 of chain D')\n",
    "ace2_contacts = pdb.select('chain D and within 5 of chain A B C')\n",
    "\n",
    "# writePDB('spike_contacts.pdb', spike_contacts)\n",
    "# writePDB('ace2_contacts.pdb', ace2_contacts)"
   ]
  },
  {
   "cell_type": "code",
   "execution_count": 4,
   "metadata": {},
   "outputs": [],
   "source": [
    "spike = pdb.select('chain A B C')\n",
    "ace2  = pdb.select('chain D')"
   ]
  },
  {
   "cell_type": "code",
   "execution_count": 5,
   "metadata": {},
   "outputs": [],
   "source": [
    "interactions = findNeighbors(atoms=spike, radius=5, atoms2=ace2)"
   ]
  },
  {
   "cell_type": "code",
   "execution_count": 6,
   "metadata": {},
   "outputs": [],
   "source": [
    "spike_atoms = []\n",
    "ace2_atoms = []\n",
    "links = []"
   ]
  },
  {
   "cell_type": "code",
   "execution_count": 7,
   "metadata": {},
   "outputs": [],
   "source": [
    "# function to format atom data\n",
    "def getAtomData(atom):\n",
    "    data = {}\n",
    "\n",
    "    data[\"chain\"]   = atom.getData('chain')\n",
    "    data[\"resname\"] = atom.getData('resname')\n",
    "    data[\"resnum\"]  = int(atom.getData('resnum'))\n",
    "    data[\"atom\"] = atom.getData('name')\n",
    "    data[\"name\"]   = \" \".join([data[\"chain\"], data['resname'], str(data['resnum']), data['atom']])\n",
    "    data[\"id\"]   = atom.getIndex()\n",
    "\n",
    "    return data"
   ]
  },
  {
   "cell_type": "code",
   "execution_count": 8,
   "metadata": {},
   "outputs": [],
   "source": [
    "# store nodes and links \n",
    "for pair in interactions:\n",
    "    a, b, distance = pair\n",
    "\n",
    "    spike_atom = getAtomData(a)    \n",
    "    ace2_atom  = getAtomData(b)\n",
    "\n",
    "    spike_atoms.append(spike_atom)\n",
    "    ace2_atoms.append(ace2_atom)\n",
    "\n",
    "    links.append({\n",
    "        \"source\": spike_atom[\"id\"],\n",
    "        \"target\": ace2_atom[\"id\"],\n",
    "        \"distance\": float(distance)\n",
    "    })"
   ]
  },
  {
   "cell_type": "code",
   "execution_count": 9,
   "metadata": {},
   "outputs": [],
   "source": [
    "# remove duplicates in atom lists\n",
    "spike_atoms = list({v['id']:v for v in spike_atoms}.values())\n",
    "ace2_atoms  = list({v['id']:v for v in ace2_atoms}.values())\n",
    "\n",
    "for node in spike_atoms + ace2_atoms:\n",
    "    counter = 0\n",
    "    for link in links:\n",
    "        if link[\"source\"] == node[\"id\"]:\n",
    "            counter += 1\n",
    "        if link[\"target\"] == node[\"id\"]:\n",
    "            counter += 1\n",
    "    node[\"links\"] = counter\n",
    "\n",
    "spike_atoms = sorted(spike_atoms, key = (lambda i : i['links']), reverse=True)\n",
    "ace2_atoms  = sorted(ace2_atoms,  key = (lambda i : i['links']), reverse=False)"
   ]
  },
  {
   "cell_type": "code",
   "execution_count": 10,
   "metadata": {},
   "outputs": [],
   "source": [
    "interaction_json = {\n",
    "    \"nodes\": spike_atoms + ace2_atoms,\n",
    "    \"links\": links\n",
    "}"
   ]
  },
  {
   "cell_type": "code",
   "execution_count": 11,
   "metadata": {},
   "outputs": [],
   "source": [
    "# write to json\n",
    "with open('atom_interactions.json', 'w') as file:\n",
    "    json.dump(interaction_json, file)"
   ]
  },
  {
   "cell_type": "code",
   "execution_count": 12,
   "metadata": {},
   "outputs": [
    {
     "output_type": "execute_result",
     "data": {
      "text/plain": "True"
     },
     "metadata": {},
     "execution_count": 12
    }
   ],
   "source": [
    "# Just for verification\n",
    "spike_contact_residues  = sorted(spike_contacts.getData('resnum'))\n",
    "spike_contact_residues2 = sorted([atom['resnum'] for atom in spike_atoms])\n",
    "spike_contact_residues == spike_contact_residues2"
   ]
  },
  {
   "cell_type": "code",
   "execution_count": 13,
   "metadata": {},
   "outputs": [],
   "source": [
    "spike_residues = []\n",
    "ace2_residues  = []\n",
    "residue_links_temp  = []\n",
    "residue_links = []\n",
    "\n",
    "for node in spike_atoms + ace2_atoms: \n",
    "    residue_node = {\n",
    "        \"chain\":   node[\"chain\"],\n",
    "        \"resname\": node[\"resname\"],\n",
    "        \"resnum\":  node[\"resnum\"],\n",
    "        \"name\":    node[\"chain\"] + str(node[\"resnum\"]) + \"_\" + node[\"resname\"],\n",
    "        \"id\":      node[\"chain\"] + str(node[\"resnum\"])\n",
    "    }\n",
    "    if node['chain'] == 'C':\n",
    "        spike_residues.append(residue_node)\n",
    "    elif node['chain'] == 'D':\n",
    "        ace2_residues.append(residue_node)\n",
    "\n",
    "spike_residues = list({v['id']:v for v in spike_residues}.values())\n",
    "ace2_residues  = list({v['id']:v for v in ace2_residues}.values())    "
   ]
  },
  {
   "cell_type": "code",
   "execution_count": 14,
   "metadata": {},
   "outputs": [],
   "source": [
    "for link in links:\n",
    "    source, target = 0, 0\n",
    "    \n",
    "    for node in spike_atoms + ace2_atoms:\n",
    "        if link[\"source\"] == node[\"id\"]:\n",
    "            source = node[\"chain\"] + str(node[\"resnum\"])\n",
    "            if target is not 0:\n",
    "                break\n",
    "        if link[\"target\"] == node[\"id\"]:\n",
    "            target = node[\"chain\"] + str(node[\"resnum\"])\n",
    "            if source is not 0:\n",
    "                break\n",
    "\n",
    "    if (source, target) in residue_links_temp:\n",
    "        for link in residue_links:\n",
    "            if link['source'] == source and link['target'] == target:\n",
    "                link['bonds'] += 1\n",
    "    else:\n",
    "        residue_links_temp.append((source, target))\n",
    "        residue_links.append({\n",
    "            \"source\": source,\n",
    "            \"target\": target,\n",
    "            \"bonds\": 1\n",
    "        })"
   ]
  },
  {
   "cell_type": "code",
   "execution_count": 15,
   "metadata": {},
   "outputs": [
    {
     "output_type": "execute_result",
     "data": {
      "text/plain": "55"
     },
     "metadata": {},
     "execution_count": 15
    }
   ],
   "source": [
    "len(residue_links)"
   ]
  },
  {
   "cell_type": "code",
   "execution_count": 16,
   "metadata": {},
   "outputs": [],
   "source": [
    "for node in spike_residues + ace2_residues:\n",
    "    counter = 0\n",
    "    for link in residue_links:\n",
    "        if link[\"source\"] == node[\"id\"]:\n",
    "            counter += 1\n",
    "        if link[\"target\"] == node[\"id\"]:\n",
    "            counter += 1\n",
    "    node[\"links\"] = counter\n",
    "\n",
    "spike_residues = sorted(spike_residues, key = (lambda i : i[\"links\"]), reverse=True)\n",
    "ace2_residues  = sorted(ace2_residues,  key = (lambda i : i[\"links\"]), reverse=False)\n"
   ]
  },
  {
   "cell_type": "code",
   "execution_count": 17,
   "metadata": {},
   "outputs": [],
   "source": [
    "residue_interaction_json = {\n",
    "    \"nodes\": spike_residues + ace2_residues,\n",
    "    \"links\": residue_links\n",
    "}"
   ]
  },
  {
   "cell_type": "code",
   "execution_count": 18,
   "metadata": {},
   "outputs": [],
   "source": [
    "with open('residue_interactions.json', 'w') as file:\n",
    "    json.dump(residue_interaction_json, file)"
   ]
  }
 ],
 "metadata": {
  "kernelspec": {
   "display_name": "Python 3.7.5 64-bit",
   "language": "python",
   "name": "python37564bit46f60de5514a4b5480af032435df6bab"
  },
  "language_info": {
   "codemirror_mode": {
    "name": "ipython",
    "version": 3
   },
   "file_extension": ".py",
   "mimetype": "text/x-python",
   "name": "python",
   "nbconvert_exporter": "python",
   "pygments_lexer": "ipython3",
   "version": "3.7.5-final"
  }
 },
 "nbformat": 4,
 "nbformat_minor": 4
}